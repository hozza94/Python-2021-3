{
  "nbformat": 4,
  "nbformat_minor": 0,
  "metadata": {
    "colab": {
      "name": "u43_정규표현식.ipynb",
      "provenance": [],
      "collapsed_sections": []
    },
    "kernelspec": {
      "name": "python3",
      "display_name": "Python 3"
    },
    "language_info": {
      "name": "python"
    }
  },
  "cells": [
    {
      "cell_type": "markdown",
      "metadata": {
        "id": "txiUx47P8d8N"
      },
      "source": [
        "## Unit 43. 정규표현식"
      ]
    },
    {
      "cell_type": "code",
      "metadata": {
        "id": "uk9QCMXF8Fdj"
      },
      "source": [
        "# [ㄱ-ㅎㅏ-ㅣ가-힣]  한글 정규 표현식\n",
        "\n",
        "# re.sub('[^ㄱ-ㅎㅏ-ㅣ가-힣]', '', text) # 한글이 아닌 정규표현식을 '' 로 바꿔라"
      ],
      "execution_count": null,
      "outputs": []
    },
    {
      "cell_type": "code",
      "metadata": {
        "colab": {
          "base_uri": "https://localhost:8080/"
        },
        "id": "sJkFBH3t_IFe",
        "outputId": "4f977971-a23d-4ef8-bb91-1f46abd74056"
      },
      "source": [
        "import re\n",
        "\n",
        "re.match('Hello', 'Hello, world!') # 패턴, 문자열"
      ],
      "execution_count": 1,
      "outputs": [
        {
          "output_type": "execute_result",
          "data": {
            "text/plain": [
              "<re.Match object; span=(0, 5), match='Hello'>"
            ]
          },
          "metadata": {
            "tags": []
          },
          "execution_count": 1
        }
      ]
    },
    {
      "cell_type": "code",
      "metadata": {
        "colab": {
          "base_uri": "https://localhost:8080/"
        },
        "id": "rVCcExg3_r0O",
        "outputId": "fcf29ae6-098f-4d48-878f-d1b3935a692a"
      },
      "source": [
        "z = re.match('Hello', 'Hello, world!')\n",
        "if z:\n",
        "  print(\"found\")\n",
        "else:\n",
        "  print(\"not found\")"
      ],
      "execution_count": 2,
      "outputs": [
        {
          "output_type": "stream",
          "text": [
            "found\n"
          ],
          "name": "stdout"
        }
      ]
    },
    {
      "cell_type": "code",
      "metadata": {
        "colab": {
          "base_uri": "https://localhost:8080/"
        },
        "id": "XNRWQEPEDbA3",
        "outputId": "9bc0d013-3765-4d21-d671-027a9b67c8b1"
      },
      "source": [
        "# 앞에서 찾음\n",
        "z = re.match('world', 'Hello, world!')\n",
        "if z:\n",
        "  print(\"found\")\n",
        "else:\n",
        "  print(\"not found\")"
      ],
      "execution_count": 3,
      "outputs": [
        {
          "output_type": "stream",
          "text": [
            "not found\n"
          ],
          "name": "stdout"
        }
      ]
    },
    {
      "cell_type": "code",
      "metadata": {
        "colab": {
          "base_uri": "https://localhost:8080/"
        },
        "id": "YNxlSo8mDdAp",
        "outputId": "74f07af5-059c-46d5-ea41-b4b60c624f96"
      },
      "source": [
        "# 전체에서 찾음\n",
        "z = re.search('world', 'Hello, world!')\n",
        "if z:\n",
        "  print(\"found\")\n",
        "else:\n",
        "  print(\"not found\")"
      ],
      "execution_count": 5,
      "outputs": [
        {
          "output_type": "stream",
          "text": [
            "found\n"
          ],
          "name": "stdout"
        }
      ]
    },
    {
      "cell_type": "markdown",
      "metadata": {
        "id": "kILIy-WVDlse"
      },
      "source": [
        "## 43.2 범위 판단"
      ]
    },
    {
      "cell_type": "code",
      "metadata": {
        "colab": {
          "base_uri": "https://localhost:8080/"
        },
        "id": "WGOJBZfrDkG-",
        "outputId": "d6a2a814-d0ab-433c-b4e7-4a0e5aa2e4cf"
      },
      "source": [
        "# 휴대전화 번호 형식\n",
        "pattern = '[0-9]{3}-[0-9]{4}-[0-9]{4}'\n",
        "text = '010-1234-5678'\n",
        "\n",
        "if re.match(pattern, text):\n",
        "  print('올바른 휴대전화번호')\n",
        "else:\n",
        "  print('잘못된 휴대전화번호')"
      ],
      "execution_count": 6,
      "outputs": [
        {
          "output_type": "stream",
          "text": [
            "올바른 휴대전화번호\n"
          ],
          "name": "stdout"
        }
      ]
    },
    {
      "cell_type": "code",
      "metadata": {
        "colab": {
          "base_uri": "https://localhost:8080/"
        },
        "id": "yQRS_QNLFjOL",
        "outputId": "e6254e2f-f2ae-4158-8c14-d029c78fb079"
      },
      "source": [
        "hangul = '[ㄱ-ㅎㅏ-ㅣ가-힣]+'\n",
        "text = '홍길동'\n",
        "if re.search(hangul, text):\n",
        "  print('한글있어!')\n",
        "else:\n",
        "  print('한글없어!')"
      ],
      "execution_count": 7,
      "outputs": [
        {
          "output_type": "stream",
          "text": [
            "한글있어!\n"
          ],
          "name": "stdout"
        }
      ]
    },
    {
      "cell_type": "markdown",
      "metadata": {
        "id": "6ItWN7i-JzQE"
      },
      "source": [
        "### 이메일 주소 판별"
      ]
    },
    {
      "cell_type": "code",
      "metadata": {
        "id": "jzFBlqXEJ0oS"
      },
      "source": [
        "# pattern 을 만들어 둠\n",
        "# '^[a-zA-Z0-9+-_.]+@[a-zA-Z0-9-]+\\.[a-zA-Z0-9-.]+$'\n",
        "p = re.compile('^[0-9a-zA-Z]([-_.]?[0-9a-zA-Z])*@[0-9a-zA-Z]([-_.]?[0-9a-zA-Z])*.[a-zA-Z]{2,3}$')\n",
        "pp = re.compile('^[a-zA-Z0-9+-_.]+@[a-zA-Z0-9-]+\\.[a-zA-Z0-9-.]+$')\n",
        "\n",
        "emails = ['python@mail.example.com', 'python+kr@example.com',              # 올바른 형식\n",
        "          'python-dojang@example.co.kr', 'python_10@example.info',         # 올바른 형식\n",
        "          'python.dojang@e-xample.com',                                    # 올바른 형식\n",
        "          '@example.com', 'python@example', 'python@example-com']          # 잘못된 형식"
      ],
      "execution_count": 31,
      "outputs": []
    },
    {
      "cell_type": "code",
      "metadata": {
        "colab": {
          "base_uri": "https://localhost:8080/"
        },
        "id": "cn_ULFy7Kfi6",
        "outputId": "3288c105-c240-427c-d82f-ff42aef5079e"
      },
      "source": [
        "for email in emails:\n",
        "    print(p.match(email) != None, end=' ')"
      ],
      "execution_count": 29,
      "outputs": [
        {
          "output_type": "stream",
          "text": [
            "True False True True True False True True "
          ],
          "name": "stdout"
        }
      ]
    },
    {
      "cell_type": "code",
      "metadata": {
        "colab": {
          "base_uri": "https://localhost:8080/"
        },
        "id": "4L14Xu9yLQf3",
        "outputId": "e19e0f93-91e6-42c7-e930-1f8bfe144a62"
      },
      "source": [
        "for email in emails:\n",
        "    print(pp.match(email) != None, end=' ')"
      ],
      "execution_count": 32,
      "outputs": [
        {
          "output_type": "stream",
          "text": [
            "True True True True True False False False "
          ],
          "name": "stdout"
        }
      ]
    },
    {
      "cell_type": "markdown",
      "metadata": {
        "id": "7JTurQzDGDTa"
      },
      "source": [
        "## 43.4 문자열 바꾸기"
      ]
    },
    {
      "cell_type": "code",
      "metadata": {
        "colab": {
          "base_uri": "https://localhost:8080/",
          "height": 35
        },
        "id": "alL8MOMxGF1R",
        "outputId": "8203e65a-0af7-4c13-ec89-237687dd5be6"
      },
      "source": [
        "# re.sub('패턴', '바꿀문자열', '문자열')\n",
        "re.sub('apple|orange', 'fruit', 'apple box orange tree')"
      ],
      "execution_count": 8,
      "outputs": [
        {
          "output_type": "execute_result",
          "data": {
            "application/vnd.google.colaboratory.intrinsic+json": {
              "type": "string"
            },
            "text/plain": [
              "'fruit box fruit tree'"
            ]
          },
          "metadata": {
            "tags": []
          },
          "execution_count": 8
        }
      ]
    },
    {
      "cell_type": "code",
      "metadata": {
        "colab": {
          "base_uri": "https://localhost:8080/",
          "height": 35
        },
        "id": "-qlAFmN_Gymq",
        "outputId": "aaeafca8-5ad6-4862-f5ec-cc0bdd0e1aaa"
      },
      "source": [
        "re.sub('[0-9]+', 'n', '1 2 fizz 4 buzz fizz 7 8 fizz buzz 11 12')"
      ],
      "execution_count": 9,
      "outputs": [
        {
          "output_type": "execute_result",
          "data": {
            "application/vnd.google.colaboratory.intrinsic+json": {
              "type": "string"
            },
            "text/plain": [
              "'n n fizz n buzz fizz n n fizz buzz n n'"
            ]
          },
          "metadata": {
            "tags": []
          },
          "execution_count": 9
        }
      ]
    },
    {
      "cell_type": "code",
      "metadata": {
        "colab": {
          "base_uri": "https://localhost:8080/",
          "height": 35
        },
        "id": "v5eUpu47G_u7",
        "outputId": "e6fe24a6-4207-4665-cd58-40486a2efa1b"
      },
      "source": [
        "re.sub('[0-9]', 'n', '1 2 fizz 4 buzz fizz 7 8 fizz buzz 11 12')"
      ],
      "execution_count": 10,
      "outputs": [
        {
          "output_type": "execute_result",
          "data": {
            "application/vnd.google.colaboratory.intrinsic+json": {
              "type": "string"
            },
            "text/plain": [
              "'n n fizz n buzz fizz n n fizz buzz nn nn'"
            ]
          },
          "metadata": {
            "tags": []
          },
          "execution_count": 10
        }
      ]
    },
    {
      "cell_type": "code",
      "metadata": {
        "id": "WGs9mqyFHNgW"
      },
      "source": [
        "text = '''\n",
        "정규표현식의 특수 문자를 판단하려면 \\를 붙여야 합니다.\n",
        "여기서 문자열 앞에 r을 붙여주면 원시(raw) 문자열이 되어 \\를 붙이지 않아도\n",
        "특수 문자를 그대로 판단할 수 있습니다. \n",
        "따라서 raw 문자열에서는 \\\\숫자, \\\\g<이름>,\n",
        "\\\\g<숫자>는 \\숫자, \\g<이름>, \\g<숫자> 형식처럼 \\를 하나만 붙여서 사용할 수 있습니다.\n",
        "r'\\숫자 \\g<이름> \\g<숫자>'\n",
        "'''"
      ],
      "execution_count": 20,
      "outputs": []
    },
    {
      "cell_type": "code",
      "metadata": {
        "colab": {
          "base_uri": "https://localhost:8080/",
          "height": 69
        },
        "id": "C2yrZbUnH4jM",
        "outputId": "efe13543-f64a-43db-9102-eaab6948ff2d"
      },
      "source": [
        "not_hangul_blank = '[^ㄱ-ㅎㅏ-ㅣ가-힣 ]'\n",
        "text = re.sub(not_hangul, '', text)\n",
        "text"
      ],
      "execution_count": 21,
      "outputs": [
        {
          "output_type": "execute_result",
          "data": {
            "application/vnd.google.colaboratory.intrinsic+json": {
              "type": "string"
            },
            "text/plain": [
              "'정규표현식의 특수 문자를 판단하려면 를 붙여야 합니다여기서 문자열 앞에 을 붙여주면 원시 문자열이 되어 를 붙이지 않아도특수 문자를 그대로 판단할 수 있습니다 따라서  문자열에서는 숫자 이름숫자는 숫자 이름 숫자 형식처럼 를 하나만 붙여서 사용할 수 있습니다숫자 이름 숫자'"
            ]
          },
          "metadata": {
            "tags": []
          },
          "execution_count": 21
        }
      ]
    },
    {
      "cell_type": "code",
      "metadata": {
        "colab": {
          "base_uri": "https://localhost:8080/",
          "height": 35
        },
        "id": "H82XdXvII84y",
        "outputId": "52ef36bb-f19b-423c-c7d4-92ccab1bc15a"
      },
      "source": [
        "text = '에밀리블런트 사랑해,, 사랑스러움의 끝ㅠㅠ 4DX로 보면 더 재밌을 듯'\n",
        "text = re.sub(not_hangul_blank, '', text)\n",
        "text"
      ],
      "execution_count": 22,
      "outputs": [
        {
          "output_type": "execute_result",
          "data": {
            "application/vnd.google.colaboratory.intrinsic+json": {
              "type": "string"
            },
            "text/plain": [
              "'에밀리블런트 사랑해 사랑스러움의 끝ㅠㅠ 로 보면 더 재밌을 듯'"
            ]
          },
          "metadata": {
            "tags": []
          },
          "execution_count": 22
        }
      ]
    }
  ]
}