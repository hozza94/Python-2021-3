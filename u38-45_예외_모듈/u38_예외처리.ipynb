{
  "nbformat": 4,
  "nbformat_minor": 0,
  "metadata": {
    "colab": {
      "name": "u38_예외처리.ipynb",
      "provenance": [],
      "collapsed_sections": []
    },
    "kernelspec": {
      "name": "python3",
      "display_name": "Python 3"
    },
    "language_info": {
      "name": "python"
    }
  },
  "cells": [
    {
      "cell_type": "markdown",
      "metadata": {
        "id": "SlDV0T-HsHGh"
      },
      "source": [
        "## Unit 38. try except"
      ]
    },
    {
      "cell_type": "code",
      "metadata": {
        "colab": {
          "base_uri": "https://localhost:8080/"
        },
        "id": "K01AdLzpsE0y",
        "outputId": "3ec62b87-2241-4ff2-8559-d6670238e205"
      },
      "source": [
        "a = [1,2,3]\n",
        "try:\n",
        "  a[4]\n",
        "except:\n",
        "  print('예외 발생')"
      ],
      "execution_count": 4,
      "outputs": [
        {
          "output_type": "stream",
          "text": [
            "예외 발생\n"
          ],
          "name": "stdout"
        }
      ]
    },
    {
      "cell_type": "code",
      "metadata": {
        "colab": {
          "base_uri": "https://localhost:8080/"
        },
        "id": "wY_4solvvnje",
        "outputId": "c6a5d165-f07f-4649-9268-449372aa43c4"
      },
      "source": [
        "try:\n",
        "  int('10d')\n",
        "except ZeroDivisionError:\n",
        "  print('0으로 나눌수 없음')\n",
        "except IndexError:\n",
        "  print('Index Error 발생')\n",
        "except ValueError:\n",
        "  print('Value Error')"
      ],
      "execution_count": 6,
      "outputs": [
        {
          "output_type": "stream",
          "text": [
            "Value Error\n"
          ],
          "name": "stdout"
        }
      ]
    },
    {
      "cell_type": "markdown",
      "metadata": {
        "id": "9KFym_6qw-dr"
      },
      "source": [
        "### 예외의 여러 메시지 받아오기"
      ]
    },
    {
      "cell_type": "code",
      "metadata": {
        "colab": {
          "base_uri": "https://localhost:8080/"
        },
        "id": "O0sMVTmwwRX2",
        "outputId": "a80956f2-622e-4b7a-9877-52f39bd5f1be"
      },
      "source": [
        "try:\n",
        "  int('10d')\n",
        "except Exception as e:\n",
        "  print(e)"
      ],
      "execution_count": 7,
      "outputs": [
        {
          "output_type": "stream",
          "text": [
            "invalid literal for int() with base 10: '10d'\n"
          ],
          "name": "stdout"
        }
      ]
    },
    {
      "cell_type": "markdown",
      "metadata": {
        "id": "-VOFYcPSxnc2"
      },
      "source": [
        "## 38.2 else-finally"
      ]
    },
    {
      "cell_type": "code",
      "metadata": {
        "colab": {
          "base_uri": "https://localhost:8080/"
        },
        "id": "Hn69Ex42xrpz",
        "outputId": "095adc42-f54c-4706-88f4-1765d6a9a03c"
      },
      "source": [
        "try:\n",
        "  x = int(input('나눌 숫자 입력 : '))\n",
        "  y = 10 / x\n",
        "except Exception as e:\n",
        "  print(e)\n",
        "else:\n",
        "  print(y)"
      ],
      "execution_count": 8,
      "outputs": [
        {
          "output_type": "stream",
          "text": [
            "나눌 숫자 입력 : 5r\n",
            "invalid literal for int() with base 10: '5r'\n"
          ],
          "name": "stdout"
        }
      ]
    },
    {
      "cell_type": "code",
      "metadata": {
        "colab": {
          "base_uri": "https://localhost:8080/"
        },
        "id": "nPDz2MNI2RWT",
        "outputId": "705b13ee-8fa8-4ff2-b390-f749240d2a81"
      },
      "source": [
        "# 예외와 상관없이 실행\n",
        "try:\n",
        "  x = int(input('나눌 숫자 입력 : '))\n",
        "  y = 10 / x\n",
        "except Exception as e:\n",
        "  print(e)\n",
        "else:\n",
        "  print(y)\n",
        "finally:\n",
        "  print('코드 실행 종료')"
      ],
      "execution_count": 9,
      "outputs": [
        {
          "output_type": "stream",
          "text": [
            "나눌 숫자 입력 : 0\n",
            "division by zero\n",
            "코드 실행 종료\n"
          ],
          "name": "stdout"
        }
      ]
    },
    {
      "cell_type": "markdown",
      "metadata": {
        "id": "WqpnewAI3cTZ"
      },
      "source": [
        "### 38.3 예외 발생시키기"
      ]
    },
    {
      "cell_type": "code",
      "metadata": {
        "colab": {
          "base_uri": "https://localhost:8080/"
        },
        "id": "UzuR6D-P2m33",
        "outputId": "11c89e66-47c0-4710-f22e-c0c9fa52dfe9"
      },
      "source": [
        "import random\n",
        "\n",
        "try:\n",
        "  x = random.randint(1, 10)\n",
        "  print(x)\n",
        "  if x % 3 != 0:\n",
        "    raise Exception('3의 배수가 아닙니다')\n",
        "  print(x)\n",
        "except Exception as e:\n",
        "  print('예외 발생', e)"
      ],
      "execution_count": 15,
      "outputs": [
        {
          "output_type": "stream",
          "text": [
            "6\n",
            "6\n"
          ],
          "name": "stdout"
        }
      ]
    },
    {
      "cell_type": "code",
      "metadata": {
        "id": "3WoL9NKd4yAs"
      },
      "source": [
        "def multiple11(x):\n",
        "  if x % 11 != 0:\n",
        "    raise Exception('11의 배수가 아닙니다.') \n",
        "  print(x)"
      ],
      "execution_count": 16,
      "outputs": []
    },
    {
      "cell_type": "code",
      "metadata": {
        "colab": {
          "base_uri": "https://localhost:8080/"
        },
        "id": "VEFEJrd66PjZ",
        "outputId": "9d22b392-3b52-4ef4-aa1f-aaab1611bee2"
      },
      "source": [
        "try:\n",
        "  multiple11(100)\n",
        "except Exception as e:\n",
        "  print('예외 발생 -', e)"
      ],
      "execution_count": 17,
      "outputs": [
        {
          "output_type": "stream",
          "text": [
            "예외 발생 - 11의 배수가 아닙니다.\n"
          ],
          "name": "stdout"
        }
      ]
    },
    {
      "cell_type": "markdown",
      "metadata": {
        "id": "q629KitY70ph"
      },
      "source": [
        "### 38.4 예외 만들기"
      ]
    },
    {
      "cell_type": "code",
      "metadata": {
        "id": "p6IEspY271_D"
      },
      "source": [
        "# Exception 객체를 상속받아 객체를 만들면 됨"
      ],
      "execution_count": null,
      "outputs": []
    }
  ]
}