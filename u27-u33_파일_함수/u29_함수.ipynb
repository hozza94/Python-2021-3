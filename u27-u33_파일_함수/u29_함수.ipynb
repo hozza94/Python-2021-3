{
  "nbformat": 4,
  "nbformat_minor": 0,
  "metadata": {
    "colab": {
      "name": "u29_함수.ipynb",
      "provenance": [],
      "collapsed_sections": []
    },
    "kernelspec": {
      "name": "python3",
      "display_name": "Python 3"
    },
    "language_info": {
      "name": "python"
    }
  },
  "cells": [
    {
      "cell_type": "markdown",
      "metadata": {
        "id": "RzaNbGQ1Mapj"
      },
      "source": [
        "## Unit 29. 함수"
      ]
    },
    {
      "cell_type": "markdown",
      "metadata": {
        "id": "5DBLD342Ol8Q"
      },
      "source": [
        "### 29.1 출력 함수 만들기"
      ]
    },
    {
      "cell_type": "code",
      "metadata": {
        "id": "a5XZqjr_551s"
      },
      "source": [
        "def hello():\n",
        "  print('hello')"
      ],
      "execution_count": 1,
      "outputs": []
    },
    {
      "cell_type": "code",
      "metadata": {
        "colab": {
          "base_uri": "https://localhost:8080/"
        },
        "id": "0HauQ7aaPA5V",
        "outputId": "1b4691e6-e0d4-4d8f-bdb5-71732b230adc"
      },
      "source": [
        "hello()"
      ],
      "execution_count": 2,
      "outputs": [
        {
          "output_type": "stream",
          "text": [
            "hello\n"
          ],
          "name": "stdout"
        }
      ]
    },
    {
      "cell_type": "markdown",
      "metadata": {
        "id": "s4TzqK7sPx-v"
      },
      "source": [
        "### 29.2 덧셈 함수"
      ]
    },
    {
      "cell_type": "code",
      "metadata": {
        "id": "LmtmFj37Paa-"
      },
      "source": [
        "# Docstrings\n",
        "def add(a , b):\n",
        "  \"\"\"\n",
        "    이 함수는 a와 b를 더한 뒤 결과를 프린트하는 함수 입니다.\n",
        "  \"\"\"\n",
        "  print(a + b)"
      ],
      "execution_count": 9,
      "outputs": []
    },
    {
      "cell_type": "code",
      "metadata": {
        "colab": {
          "base_uri": "https://localhost:8080/"
        },
        "id": "Vza4lOFHQD8j",
        "outputId": "a638f3e1-48df-4456-acec-74b4d8a304c6"
      },
      "source": [
        "add(4,5)"
      ],
      "execution_count": 7,
      "outputs": [
        {
          "output_type": "stream",
          "text": [
            "9\n"
          ],
          "name": "stdout"
        }
      ]
    },
    {
      "cell_type": "code",
      "metadata": {
        "id": "2cQrCwhDQ9Pr"
      },
      "source": [
        "add?"
      ],
      "execution_count": 10,
      "outputs": []
    },
    {
      "cell_type": "markdown",
      "metadata": {
        "id": "3PPMv9noR7yU"
      },
      "source": [
        "### 29.3 결과값 반환"
      ]
    },
    {
      "cell_type": "code",
      "metadata": {
        "id": "I3onMYumR7Jl"
      },
      "source": [
        "def add(a,b):\n",
        "  return a+b"
      ],
      "execution_count": 11,
      "outputs": []
    },
    {
      "cell_type": "code",
      "metadata": {
        "colab": {
          "base_uri": "https://localhost:8080/"
        },
        "id": "m5cDCAKfSBcF",
        "outputId": "4bebaa34-7ef0-4dda-eff7-eb1bc995e90a"
      },
      "source": [
        "add(4,5)"
      ],
      "execution_count": 12,
      "outputs": [
        {
          "output_type": "execute_result",
          "data": {
            "text/plain": [
              "9"
            ]
          },
          "metadata": {
            "tags": []
          },
          "execution_count": 12
        }
      ]
    },
    {
      "cell_type": "code",
      "metadata": {
        "colab": {
          "base_uri": "https://localhost:8080/"
        },
        "id": "OiN33a1FSDd-",
        "outputId": "14f2d51e-4306-436a-f34e-0b97321df9b3"
      },
      "source": [
        "x = add(23,45)\n",
        "x"
      ],
      "execution_count": 13,
      "outputs": [
        {
          "output_type": "execute_result",
          "data": {
            "text/plain": [
              "68"
            ]
          },
          "metadata": {
            "tags": []
          },
          "execution_count": 13
        }
      ]
    },
    {
      "cell_type": "code",
      "metadata": {
        "id": "NXXOd-VUSFUW"
      },
      "source": [
        "def is_ten(x):\n",
        "  return x == 10"
      ],
      "execution_count": 14,
      "outputs": []
    },
    {
      "cell_type": "code",
      "metadata": {
        "colab": {
          "base_uri": "https://localhost:8080/"
        },
        "id": "v7H1urmkSIOy",
        "outputId": "96799c8b-9770-42d8-ec2d-a594165a8fc6"
      },
      "source": [
        "is_ten(30)"
      ],
      "execution_count": 15,
      "outputs": [
        {
          "output_type": "execute_result",
          "data": {
            "text/plain": [
              "False"
            ]
          },
          "metadata": {
            "tags": []
          },
          "execution_count": 15
        }
      ]
    },
    {
      "cell_type": "code",
      "metadata": {
        "id": "xhG5qkLJSmRb"
      },
      "source": [
        "def not_ten(x):\n",
        "  if x != 10:\n",
        "    print(\"it's not ten\")"
      ],
      "execution_count": 16,
      "outputs": []
    },
    {
      "cell_type": "code",
      "metadata": {
        "id": "MlZVAL2xStLP"
      },
      "source": [
        "not_ten(101//10)"
      ],
      "execution_count": 17,
      "outputs": []
    },
    {
      "cell_type": "markdown",
      "metadata": {
        "id": "s-ezB9IbTxYJ"
      },
      "source": [
        "### 29.4 여러개의 결과값 반환"
      ]
    },
    {
      "cell_type": "code",
      "metadata": {
        "id": "-ucA67OcTw3A"
      },
      "source": [
        "def add_sub(a,b):\n",
        "  return a+b, a-b"
      ],
      "execution_count": 19,
      "outputs": []
    },
    {
      "cell_type": "code",
      "metadata": {
        "id": "EP98MgqVT5YC"
      },
      "source": [
        "x, y = add_sub(15,7)"
      ],
      "execution_count": 20,
      "outputs": []
    },
    {
      "cell_type": "code",
      "metadata": {
        "colab": {
          "base_uri": "https://localhost:8080/"
        },
        "id": "BZj2dY2rT7zL",
        "outputId": "a43e272d-f44c-48e1-a9da-9e7c362065ee"
      },
      "source": [
        "x, y"
      ],
      "execution_count": 21,
      "outputs": [
        {
          "output_type": "execute_result",
          "data": {
            "text/plain": [
              "(22, 8)"
            ]
          },
          "metadata": {
            "tags": []
          },
          "execution_count": 21
        }
      ]
    },
    {
      "cell_type": "markdown",
      "metadata": {
        "id": "SHRRRuO2UK_H"
      },
      "source": [
        "### 29.5 함수의 호출과정"
      ]
    },
    {
      "cell_type": "code",
      "metadata": {
        "id": "uCn4z-ivUMp9"
      },
      "source": [
        "# stack 이용"
      ],
      "execution_count": null,
      "outputs": []
    },
    {
      "cell_type": "markdown",
      "metadata": {
        "id": "I_3_8nUTVjwM"
      },
      "source": [
        "## 연습문제"
      ]
    },
    {
      "cell_type": "markdown",
      "metadata": {
        "id": "-pmlj8MzVoW8"
      },
      "source": [
        "### 3자리수 정수 두개를 곱해서 나온 결과가 팔린드롭이 되도록 할때 가장 큰 숫자는? ex) 12321"
      ]
    },
    {
      "cell_type": "code",
      "metadata": {
        "id": "LFLoGP6PdHAC"
      },
      "source": [
        "def is_palindrome(x):\n",
        "  s = str(x)\n",
        "  return s == s[::-1]"
      ],
      "execution_count": 22,
      "outputs": []
    },
    {
      "cell_type": "code",
      "metadata": {
        "colab": {
          "base_uri": "https://localhost:8080/"
        },
        "id": "xWb3JQD6d3Ns",
        "outputId": "aee60953-a548-4a6c-a1ad-67eff490bb13"
      },
      "source": [
        "max_pal = 0\n",
        "for i in range(100, 1000):\n",
        "  for k in range(i, 1000):\n",
        "    if is_palindrome(i*k):\n",
        "      if i*k > max_pal:\n",
        "        max_pal = i*k\n",
        "        m = i\n",
        "        n = k\n",
        "\n",
        "print(f'{m} x {n} = {max_pal}')"
      ],
      "execution_count": 23,
      "outputs": [
        {
          "output_type": "stream",
          "text": [
            "913 x 993 = 906609\n"
          ],
          "name": "stdout"
        }
      ]
    }
  ]
}