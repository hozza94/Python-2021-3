{
  "nbformat": 4,
  "nbformat_minor": 0,
  "metadata": {
    "colab": {
      "name": "6회차_구자호3ipynb",
      "provenance": [],
      "collapsed_sections": []
    },
    "kernelspec": {
      "name": "python3",
      "display_name": "Python 3"
    },
    "language_info": {
      "name": "python"
    }
  },
  "cells": [
    {
      "cell_type": "code",
      "metadata": {
        "id": "KE2SO8SF_Gbs",
        "colab": {
          "base_uri": "https://localhost:8080/"
        },
        "outputId": "84c98890-689a-42aa-8c3b-238177730845"
      },
      "source": [
        "## 22장 심사문제\n",
        "start, end = map(int, input().split())\n",
        "sq = []\n",
        "for i in range(start, end+1):\n",
        "  sq.append(2 ** i)\n",
        "del sq[1]\n",
        "del sq[-2]\n",
        "print(sq)"
      ],
      "execution_count": 1,
      "outputs": [
        {
          "output_type": "stream",
          "text": [
            "10 20\n",
            "[1024, 4096, 8192, 16384, 32768, 65536, 131072, 262144, 1048576]\n"
          ],
          "name": "stdout"
        }
      ]
    },
    {
      "cell_type": "code",
      "metadata": {
        "colab": {
          "base_uri": "https://localhost:8080/"
        },
        "id": "U_pdaxnxABA2",
        "outputId": "063d6d2f-0e73-4074-f84a-c8d79ffbf357"
      },
      "source": [
        "## 23장 심사문제\n",
        "col, row = map(int, input().split())\n",
        "padd = [[-1, -1], [-1, 0], [-1, 1],\n",
        "        [0, -1], [0, 1],\n",
        "        [1, -1], [1, 0], [1, 1]]\n",
        "matrix = []\n",
        "for i in range(row):\n",
        "    matrix.append(list(input()))\n",
        "\n",
        "m = [[0 for _ in range(col+2)] for _ in range(row+2)]\n",
        "check = [[0 for _ in range(col)] for _ in range(row)]\n",
        "\n",
        "for i in range(1, row+1):\n",
        "  for j in range(1, col+1):\n",
        "    m[i][j] = matrix[i-1][j-1]\n",
        "\n",
        "for i in range(1, row+1):\n",
        "  for j in range(1, col+1):\n",
        "    if m[i][j] == '.':\n",
        "      count = 0\n",
        "      for pad in padd:\n",
        "         x, y = pad\n",
        "         if m[i+x][j+y] == '*':\n",
        "           count += 1\n",
        "      check[i-1][j-1] = count\n",
        "    elif m[i][j] == '*':\n",
        "      check[i-1][j-1] = '*'\n",
        "\n",
        "for i in range(row):\n",
        "  for j in range(col):\n",
        "    print(check[i][j], end='')\n",
        "  print()"
      ],
      "execution_count": 75,
      "outputs": [
        {
          "output_type": "stream",
          "text": [
            "5 5\n",
            "..*..\n",
            "...*.\n",
            ".*...\n",
            ".***.\n",
            "*.*..\n",
            "01*21\n",
            "123*1\n",
            "2*532\n",
            "3***1\n",
            "*4*31\n"
          ],
          "name": "stdout"
        }
      ]
    },
    {
      "cell_type": "code",
      "metadata": {
        "colab": {
          "base_uri": "https://localhost:8080/"
        },
        "id": "CyDxv4IZABKD",
        "outputId": "62b56144-5cc1-471e-85e3-c675f4b887d4"
      },
      "source": [
        "## 24.5 심사문제\n",
        "from string import punctuation\n",
        "punctuation\n",
        "\n",
        "string = input().split(' ')\n",
        "print(string)\n",
        "count = 0\n",
        "for s in string:\n",
        "  if s.strip(punctuation) == 'the':\n",
        "    count += 1\n",
        "print(count)"
      ],
      "execution_count": 10,
      "outputs": [
        {
          "output_type": "stream",
          "text": [
            "the grown-ups' response, this time, was to advise me to lay aside my drawings of boa constrictors, whether from the inside or the outside, and devote myself instead to geography, history, arithmetic, and grammar. That is why, at the, age of six, I gave up what might have been a magnificent career as a painter. I had been disheartened by the failure of my Drawing Number One and my Drawing Number Two. Grown-ups never understand anything by themselves, and it is tiresome for children to be always and forever explaining things to the.\n",
            "['the', \"grown-ups'\", 'response,', 'this', 'time,', 'was', 'to', 'advise', 'me', 'to', 'lay', 'aside', 'my', 'drawings', 'of', 'boa', 'constrictors,', 'whether', 'from', 'the', 'inside', 'or', 'the', 'outside,', 'and', 'devote', 'myself', 'instead', 'to', 'geography,', 'history,', 'arithmetic,', 'and', 'grammar.', 'That', 'is', 'why,', 'at', 'the,', 'age', 'of', 'six,', 'I', 'gave', 'up', 'what', 'might', 'have', 'been', 'a', 'magnificent', 'career', 'as', 'a', 'painter.', 'I', 'had', 'been', 'disheartened', 'by', 'the', 'failure', 'of', 'my', 'Drawing', 'Number', 'One', 'and', 'my', 'Drawing', 'Number', 'Two.', 'Grown-ups', 'never', 'understand', 'anything', 'by', 'themselves,', 'and', 'it', 'is', 'tiresome', 'for', 'children', 'to', 'be', 'always', 'and', 'forever', 'explaining', 'things', 'to', 'the.']\n",
            "6\n"
          ],
          "name": "stdout"
        }
      ]
    },
    {
      "cell_type": "code",
      "metadata": {
        "colab": {
          "base_uri": "https://localhost:8080/"
        },
        "id": "_XvwAYTYAI__",
        "outputId": "823075f4-9865-40a0-a109-49ff69aed095"
      },
      "source": [
        "## 24.6 심사문제\n",
        "prices = list(map(int, input().split(';')))\n",
        "prices.sort(reverse=True)\n",
        "for price in prices:\n",
        "  print(f'{price: 9d}')"
      ],
      "execution_count": 33,
      "outputs": [
        {
          "output_type": "stream",
          "text": [
            "51900;83000;158000;367500;250000;59200;128500;1304000\n",
            "  1304000\n",
            "   367500\n",
            "   250000\n",
            "   158000\n",
            "   128500\n",
            "    83000\n",
            "    59200\n",
            "    51900\n"
          ],
          "name": "stdout"
        }
      ]
    },
    {
      "cell_type": "code",
      "metadata": {
        "colab": {
          "base_uri": "https://localhost:8080/"
        },
        "id": "RUdmZ7ATABUm",
        "outputId": "80d21194-3f17-42a3-ea0b-062b9fc629e7"
      },
      "source": [
        "## 25장 심사문제\n",
        "keys = input().split()\n",
        "values = map(int, input().split())\n",
        " \n",
        "x = dict(zip(keys, values))\n",
        "x.pop('delta')\n",
        "for k, v in x.items():\n",
        "  if v == 30:\n",
        "    key = k\n",
        "x.pop(key)\n",
        "\n",
        "print(x)"
      ],
      "execution_count": 44,
      "outputs": [
        {
          "output_type": "stream",
          "text": [
            "alpha bravo charlie delta echo foxtrot golf\n",
            "30 40 50 60 70 80 90\n",
            "{'bravo': 40, 'charlie': 50, 'echo': 70, 'foxtrot': 80, 'golf': 90}\n"
          ],
          "name": "stdout"
        }
      ]
    },
    {
      "cell_type": "code",
      "metadata": {
        "colab": {
          "base_uri": "https://localhost:8080/"
        },
        "id": "zQ50iCtJAEJI",
        "outputId": "5f73946d-c485-4113-bc11-92676ecf266c"
      },
      "source": [
        "##26장 심사문제\n",
        "fir, sec = map(int, input().split())\n",
        "a = set([i for i in range(1, fir+1) if fir % i ==0])\n",
        "b = set([j for j in range(1, sec+1) if fir % j ==0])\n",
        " \n",
        "divisor = a & b\n",
        " \n",
        "result = 0\n",
        "if type(divisor) == set:\n",
        "    result = sum(divisor)\n",
        " \n",
        "print(result)"
      ],
      "execution_count": 56,
      "outputs": [
        {
          "output_type": "stream",
          "text": [
            "100 200\n",
            "217\n"
          ],
          "name": "stdout"
        }
      ]
    }
  ]
}