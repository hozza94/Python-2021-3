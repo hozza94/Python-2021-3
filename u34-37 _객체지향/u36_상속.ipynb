{
  "nbformat": 4,
  "nbformat_minor": 0,
  "metadata": {
    "colab": {
      "name": "u36_상속.ipynb",
      "provenance": [],
      "collapsed_sections": []
    },
    "kernelspec": {
      "name": "python3",
      "display_name": "Python 3"
    },
    "language_info": {
      "name": "python"
    }
  },
  "cells": [
    {
      "cell_type": "markdown",
      "metadata": {
        "id": "Gb77MO_uwBqx"
      },
      "source": [
        "### Unit 36. 상속"
      ]
    },
    {
      "cell_type": "code",
      "metadata": {
        "id": "Z147pEBav_Lh"
      },
      "source": [
        "class Person:\n",
        "  def greeting(self):\n",
        "    print('안녕하세요?')\n",
        "\n",
        "class Student(Person):\n",
        "  def study(self):\n",
        "    print('공부하기')"
      ],
      "execution_count": 1,
      "outputs": []
    },
    {
      "cell_type": "code",
      "metadata": {
        "colab": {
          "base_uri": "https://localhost:8080/"
        },
        "id": "jr8DSdTOyTYV",
        "outputId": "5ab733a1-4225-4929-d308-cd04ba52469d"
      },
      "source": [
        "james = Student()\n",
        "james.greeting()\n",
        "james.study()"
      ],
      "execution_count": 3,
      "outputs": [
        {
          "output_type": "stream",
          "text": [
            "안녕하세요?\n",
            "공부하기\n"
          ],
          "name": "stdout"
        }
      ]
    },
    {
      "cell_type": "markdown",
      "metadata": {
        "id": "3M0qWvvZzi1y"
      },
      "source": [
        "### 36.3 기반 클래스의 속성 사용하기"
      ]
    },
    {
      "cell_type": "code",
      "metadata": {
        "id": "HnCDsL2AzmGm"
      },
      "source": [
        "class Person:\n",
        "  def __init__(self):\n",
        "    self.hello = \"안녕하세요?\"\n",
        "    print('Person.__init__')\n",
        "\n",
        "class Student(Person):\n",
        "  def __init__(self):\n",
        "    self.school = '파이썬'\n",
        "    print('Student.__init__')"
      ],
      "execution_count": 4,
      "outputs": []
    },
    {
      "cell_type": "code",
      "metadata": {
        "colab": {
          "base_uri": "https://localhost:8080/",
          "height": 52
        },
        "id": "SYZwp-TX0YkW",
        "outputId": "1771f0b6-69a4-453b-c97d-d8d79f1b3eaf"
      },
      "source": [
        "james = Student()\n",
        "james.school"
      ],
      "execution_count": 5,
      "outputs": [
        {
          "output_type": "stream",
          "text": [
            "Student.__init__\n"
          ],
          "name": "stdout"
        },
        {
          "output_type": "execute_result",
          "data": {
            "application/vnd.google.colaboratory.intrinsic+json": {
              "type": "string"
            },
            "text/plain": [
              "'파이썬'"
            ]
          },
          "metadata": {
            "tags": []
          },
          "execution_count": 5
        }
      ]
    },
    {
      "cell_type": "code",
      "metadata": {
        "colab": {
          "base_uri": "https://localhost:8080/",
          "height": 165
        },
        "id": "gSeu2l7Q0cxV",
        "outputId": "6bb52eda-971a-43c6-df7c-1cd261182bdf"
      },
      "source": [
        "james.hello"
      ],
      "execution_count": 6,
      "outputs": [
        {
          "output_type": "error",
          "ename": "AttributeError",
          "evalue": "ignored",
          "traceback": [
            "\u001b[0;31m---------------------------------------------------------------------------\u001b[0m",
            "\u001b[0;31mAttributeError\u001b[0m                            Traceback (most recent call last)",
            "\u001b[0;32m<ipython-input-6-da95e56173fd>\u001b[0m in \u001b[0;36m<module>\u001b[0;34m()\u001b[0m\n\u001b[0;32m----> 1\u001b[0;31m \u001b[0mjames\u001b[0m\u001b[0;34m.\u001b[0m\u001b[0mhello\u001b[0m\u001b[0;34m\u001b[0m\u001b[0;34m\u001b[0m\u001b[0m\n\u001b[0m",
            "\u001b[0;31mAttributeError\u001b[0m: 'Student' object has no attribute 'hello'"
          ]
        }
      ]
    },
    {
      "cell_type": "markdown",
      "metadata": {
        "id": "nVAk3Ckz04ps"
      },
      "source": [
        "### super()로 기반클래스 초기화"
      ]
    },
    {
      "cell_type": "code",
      "metadata": {
        "id": "B6xwJ-iA0fM4"
      },
      "source": [
        "class Person:\n",
        "  def __init__(self):\n",
        "    self.hello = \"안녕하세요?\"\n",
        "    print('Person.__init__')\n",
        "\n",
        "class Student(Person):\n",
        "  def __init__(self):\n",
        "    super().__init__()\n",
        "    self.school = '파이썬'\n",
        "    print('Student.__init__')"
      ],
      "execution_count": 10,
      "outputs": []
    },
    {
      "cell_type": "code",
      "metadata": {
        "colab": {
          "base_uri": "https://localhost:8080/",
          "height": 69
        },
        "id": "NjZx9yUt0-n2",
        "outputId": "edff948a-e4e6-4b7a-adf8-33cfcd3a9272"
      },
      "source": [
        "james = Student()\n",
        "james.hello"
      ],
      "execution_count": 11,
      "outputs": [
        {
          "output_type": "stream",
          "text": [
            "Person.__init__\n",
            "Student.__init__\n"
          ],
          "name": "stdout"
        },
        {
          "output_type": "execute_result",
          "data": {
            "application/vnd.google.colaboratory.intrinsic+json": {
              "type": "string"
            },
            "text/plain": [
              "'안녕하세요?'"
            ]
          },
          "metadata": {
            "tags": []
          },
          "execution_count": 11
        }
      ]
    },
    {
      "cell_type": "markdown",
      "metadata": {
        "id": "GGzBFIrg3RXH"
      },
      "source": [
        "###36.4 Method Overriding"
      ]
    },
    {
      "cell_type": "code",
      "metadata": {
        "id": "Q7d24fBg3Tet"
      },
      "source": [
        "class Person:\n",
        "  def greeting(self):\n",
        "    print('안녕하세요')\n",
        "\n",
        "class Student(Person):\n",
        "  def greeting(self):\n",
        "    print('안녕하세요? 저는 파이썬을 공부하는 학생입니다.')"
      ],
      "execution_count": 12,
      "outputs": []
    },
    {
      "cell_type": "code",
      "metadata": {
        "colab": {
          "base_uri": "https://localhost:8080/"
        },
        "id": "YaWZ-hxK3glt",
        "outputId": "38b7355d-b357-421a-8f36-d7c67a960c51"
      },
      "source": [
        "james = Student()\n",
        "james.greeting()"
      ],
      "execution_count": 13,
      "outputs": [
        {
          "output_type": "stream",
          "text": [
            "안녕하세요? 저는 파이썬을 공부하는 학생입니다.\n"
          ],
          "name": "stdout"
        }
      ]
    },
    {
      "cell_type": "code",
      "metadata": {
        "id": "YiHJ97Kh3kNg"
      },
      "source": [
        "class Person:\n",
        "  def greeting(self):\n",
        "    print('안녕하세요')\n",
        "\n",
        "class Student(Person):\n",
        "  def greeting(self):\n",
        "    super().greeting()\n",
        "    print('안녕하세요? 저는 파이썬을 공부하는 학생입니다.')"
      ],
      "execution_count": 18,
      "outputs": []
    },
    {
      "cell_type": "code",
      "metadata": {
        "colab": {
          "base_uri": "https://localhost:8080/"
        },
        "id": "7DglrwSa3nIi",
        "outputId": "b3ea4471-a8a0-433b-ad17-4d10f075b198"
      },
      "source": [
        "maria = Student()\n",
        "maria.greeting()"
      ],
      "execution_count": 19,
      "outputs": [
        {
          "output_type": "stream",
          "text": [
            "안녕하세요\n",
            "안녕하세요? 저는 파이썬을 공부하는 학생입니다.\n"
          ],
          "name": "stdout"
        }
      ]
    },
    {
      "cell_type": "markdown",
      "metadata": {
        "id": "uAULEQku6hQL"
      },
      "source": [
        "### 36.6 추상 클래스 -interface"
      ]
    },
    {
      "cell_type": "code",
      "metadata": {
        "id": "qjQQkt3y6jrE"
      },
      "source": [
        "from abc import *\n",
        "\n",
        "class StudentBase(metaclass=ABCMeta):\n",
        "  @abstractmethod\n",
        "  def study(self):\n",
        "    pass\n",
        "  \n",
        "  @abstractmethod\n",
        "  def go_to_school(self):\n",
        "    pass"
      ],
      "execution_count": 21,
      "outputs": []
    },
    {
      "cell_type": "code",
      "metadata": {
        "id": "2icuYxLA-_Gv"
      },
      "source": [
        "class Student(StudentBase):\n",
        "  def study(self):\n",
        "    print('공부하기')"
      ],
      "execution_count": 22,
      "outputs": []
    },
    {
      "cell_type": "code",
      "metadata": {
        "colab": {
          "base_uri": "https://localhost:8080/",
          "height": 182
        },
        "id": "3bHo3wkg_G1E",
        "outputId": "a3d93c53-f666-498a-f77f-1e993db04134"
      },
      "source": [
        "james = Student()\n",
        "james.study()"
      ],
      "execution_count": 24,
      "outputs": [
        {
          "output_type": "error",
          "ename": "TypeError",
          "evalue": "ignored",
          "traceback": [
            "\u001b[0;31m---------------------------------------------------------------------------\u001b[0m",
            "\u001b[0;31mTypeError\u001b[0m                                 Traceback (most recent call last)",
            "\u001b[0;32m<ipython-input-24-5f2e5861623e>\u001b[0m in \u001b[0;36m<module>\u001b[0;34m()\u001b[0m\n\u001b[0;32m----> 1\u001b[0;31m \u001b[0mjames\u001b[0m \u001b[0;34m=\u001b[0m \u001b[0mStudent\u001b[0m\u001b[0;34m(\u001b[0m\u001b[0;34m)\u001b[0m\u001b[0;34m\u001b[0m\u001b[0;34m\u001b[0m\u001b[0m\n\u001b[0m\u001b[1;32m      2\u001b[0m \u001b[0mjames\u001b[0m\u001b[0;34m.\u001b[0m\u001b[0mstudy\u001b[0m\u001b[0;34m(\u001b[0m\u001b[0;34m)\u001b[0m\u001b[0;34m\u001b[0m\u001b[0;34m\u001b[0m\u001b[0m\n",
            "\u001b[0;31mTypeError\u001b[0m: Can't instantiate abstract class Student with abstract methods go_to_school"
          ]
        }
      ]
    },
    {
      "cell_type": "code",
      "metadata": {
        "id": "NK6qPbS4_XNP"
      },
      "source": [
        "class Student(StudentBase):\n",
        "  def study(self):\n",
        "    print('공부하기')\n",
        "  \n",
        "  def go_to_school(self):\n",
        "    print('학교가기')"
      ],
      "execution_count": 25,
      "outputs": []
    },
    {
      "cell_type": "code",
      "metadata": {
        "colab": {
          "base_uri": "https://localhost:8080/"
        },
        "id": "3HrBZBT3_eDv",
        "outputId": "2c4e3710-38c1-4dce-9d8e-76d82babaa58"
      },
      "source": [
        "james = Student()\n",
        "james.study()\n",
        "james.go_to_school()"
      ],
      "execution_count": 26,
      "outputs": [
        {
          "output_type": "stream",
          "text": [
            "공부하기\n",
            "학교가기\n"
          ],
          "name": "stdout"
        }
      ]
    }
  ]
}