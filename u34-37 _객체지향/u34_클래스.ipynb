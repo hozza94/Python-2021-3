{
  "nbformat": 4,
  "nbformat_minor": 0,
  "metadata": {
    "colab": {
      "name": "u34_클래스.ipynb",
      "provenance": [],
      "collapsed_sections": []
    },
    "kernelspec": {
      "name": "python3",
      "display_name": "Python 3"
    },
    "language_info": {
      "name": "python"
    }
  },
  "cells": [
    {
      "cell_type": "markdown",
      "metadata": {
        "id": "51zoNIDK6Fiz"
      },
      "source": [
        "## Unit 34. Class"
      ]
    },
    {
      "cell_type": "markdown",
      "metadata": {
        "id": "xDXe9WHT7XeR"
      },
      "source": [
        "### Unit 34.1 클래스와 메소드 만들기"
      ]
    },
    {
      "cell_type": "code",
      "metadata": {
        "id": "djyCnpNm6DW1"
      },
      "source": [
        "class Person:\n",
        "  def greeting(self):\n",
        "    print('Hello')"
      ],
      "execution_count": 1,
      "outputs": []
    },
    {
      "cell_type": "code",
      "metadata": {
        "id": "rhdf84iK8T_E"
      },
      "source": [
        "james = Person()\n",
        "maria = Person()"
      ],
      "execution_count": 2,
      "outputs": []
    },
    {
      "cell_type": "code",
      "metadata": {
        "colab": {
          "base_uri": "https://localhost:8080/"
        },
        "id": "H5RCw56F8Wji",
        "outputId": "00f23780-2cfe-4c09-8f2b-63de1de475a3"
      },
      "source": [
        "james.greeting()"
      ],
      "execution_count": 3,
      "outputs": [
        {
          "output_type": "stream",
          "text": [
            "Hello\n"
          ],
          "name": "stdout"
        }
      ]
    },
    {
      "cell_type": "code",
      "metadata": {
        "id": "no_mgqCN-JQI"
      },
      "source": [
        "class Person:\n",
        "  def greeting(self):\n",
        "    print('Hello')\n",
        "\n",
        "  def hello(self):\n",
        "    self.greeting()"
      ],
      "execution_count": 4,
      "outputs": []
    },
    {
      "cell_type": "code",
      "metadata": {
        "colab": {
          "base_uri": "https://localhost:8080/"
        },
        "id": "xTtr0DBi-xi3",
        "outputId": "a6dfb00e-d157-4e8b-ca0d-0c6ce68baf9b"
      },
      "source": [
        "james = Person()\n",
        "james.hello()"
      ],
      "execution_count": 5,
      "outputs": [
        {
          "output_type": "stream",
          "text": [
            "Hello\n"
          ],
          "name": "stdout"
        }
      ]
    },
    {
      "cell_type": "code",
      "metadata": {
        "id": "BDZsAW0J_Kbs"
      },
      "source": [
        "def fact(n):\n",
        "  if not isinstance(n, int):\n",
        "    return None\n",
        "  if n == 0:\n",
        "    return 1\n",
        "  return n*fact(n-1)"
      ],
      "execution_count": 13,
      "outputs": []
    },
    {
      "cell_type": "code",
      "metadata": {
        "id": "9UCZVRnoAxY4"
      },
      "source": [
        "fact(3.14)"
      ],
      "execution_count": 11,
      "outputs": []
    },
    {
      "cell_type": "code",
      "metadata": {
        "colab": {
          "base_uri": "https://localhost:8080/"
        },
        "id": "rts57bYIAymj",
        "outputId": "9ded021f-5525-492a-d916-e4122f7ec710"
      },
      "source": [
        "fact(6)"
      ],
      "execution_count": 14,
      "outputs": [
        {
          "output_type": "execute_result",
          "data": {
            "text/plain": [
              "720"
            ]
          },
          "metadata": {
            "tags": []
          },
          "execution_count": 14
        }
      ]
    },
    {
      "cell_type": "markdown",
      "metadata": {
        "id": "5ezQ81tN_9rR"
      },
      "source": [
        "### 34.2 속성"
      ]
    },
    {
      "cell_type": "code",
      "metadata": {
        "id": "IvInpJFW_8yh"
      },
      "source": [
        "class Person:\n",
        "  def __init__(self):\n",
        "    self.hello = '안녕하세요'\n",
        "\n",
        "  def greeting(self):\n",
        "    print(self.hello)"
      ],
      "execution_count": 6,
      "outputs": []
    },
    {
      "cell_type": "code",
      "metadata": {
        "colab": {
          "base_uri": "https://localhost:8080/"
        },
        "id": "k0vFbrgwAHe0",
        "outputId": "3b5354a5-d072-464b-8d79-89eb61d6e509"
      },
      "source": [
        "maria = Person()\n",
        "maria.greeting()"
      ],
      "execution_count": 7,
      "outputs": [
        {
          "output_type": "stream",
          "text": [
            "안녕하세요\n"
          ],
          "name": "stdout"
        }
      ]
    },
    {
      "cell_type": "code",
      "metadata": {
        "colab": {
          "base_uri": "https://localhost:8080/"
        },
        "id": "7xjQysm0AklW",
        "outputId": "338ae0f8-b5d8-486e-d250-b8ff9b0c7dc1"
      },
      "source": [
        "maria.hello = 'how are you?'\n",
        "maria.greeting()"
      ],
      "execution_count": 8,
      "outputs": [
        {
          "output_type": "stream",
          "text": [
            "how are you?\n"
          ],
          "name": "stdout"
        }
      ]
    },
    {
      "cell_type": "code",
      "metadata": {
        "id": "2NIDz7bRA2uc"
      },
      "source": [
        "class Person:\n",
        "  def __init__(self, hello): # Constructor\n",
        "    self.hello = hello\n",
        "\n",
        "  def greeting(self):\n",
        "    print(self.hello)"
      ],
      "execution_count": 15,
      "outputs": []
    },
    {
      "cell_type": "code",
      "metadata": {
        "id": "qpUCED8tBvGo"
      },
      "source": [
        "james = Person('안녕하세요')\n",
        "maria = Person('HiHi')"
      ],
      "execution_count": 16,
      "outputs": []
    },
    {
      "cell_type": "code",
      "metadata": {
        "colab": {
          "base_uri": "https://localhost:8080/"
        },
        "id": "Fn_Yw3RuB5gu",
        "outputId": "e6889273-221b-40d0-8179-8a09e941588c"
      },
      "source": [
        "james.greeting()\n",
        "maria.greeting()"
      ],
      "execution_count": 17,
      "outputs": [
        {
          "output_type": "stream",
          "text": [
            "안녕하세요\n",
            "HiHi\n"
          ],
          "name": "stdout"
        }
      ]
    },
    {
      "cell_type": "code",
      "metadata": {
        "id": "q57mqVB6Cahz"
      },
      "source": [
        "class Person:\n",
        "  def __init__(self, name, age, addr): \n",
        "    self.hello = '안녕하세요'\n",
        "    self.name = name\n",
        "    self.age = age\n",
        "    self.addr = addr\n",
        "\n",
        "  def greeting(self):\n",
        "    print(f'{self.hello} 저는 {self.name}입니다.')\n",
        "\n",
        "  def __str__(self):\n",
        "    return f'hello: {self.hello}, name: {self.name}, age: {self.age}, addr: {self.addr}'"
      ],
      "execution_count": 20,
      "outputs": []
    },
    {
      "cell_type": "code",
      "metadata": {
        "colab": {
          "base_uri": "https://localhost:8080/"
        },
        "id": "hwFYBt8_N7sL",
        "outputId": "f319fb45-ad17-4bf2-e38a-f5a9e0e8ea3f"
      },
      "source": [
        "maria = Person('마리아', 23, '서울시 강남구 도곡동')\n",
        "maria.greeting()"
      ],
      "execution_count": 21,
      "outputs": [
        {
          "output_type": "stream",
          "text": [
            "안녕하세요 저는 마리아입니다.\n"
          ],
          "name": "stdout"
        }
      ]
    },
    {
      "cell_type": "code",
      "metadata": {
        "colab": {
          "base_uri": "https://localhost:8080/"
        },
        "id": "u4P_gf49VGGG",
        "outputId": "1371a81a-590f-4347-f20c-29602241a37d"
      },
      "source": [
        "print(maria)"
      ],
      "execution_count": 22,
      "outputs": [
        {
          "output_type": "stream",
          "text": [
            "hello: 안녕하세요, name: 마리아, age: 23, addr: 서울시 강남구 도곡동\n"
          ],
          "name": "stdout"
        }
      ]
    },
    {
      "cell_type": "markdown",
      "metadata": {
        "id": "JcCrz1aEWGav"
      },
      "source": [
        "### 34.3 비공개 속성"
      ]
    },
    {
      "cell_type": "code",
      "metadata": {
        "colab": {
          "base_uri": "https://localhost:8080/"
        },
        "id": "ZcHdoYGoWI53",
        "outputId": "f1c44193-f7a9-4bea-8ad2-e99838f98ec2"
      },
      "source": [
        "maria.age = 30\n",
        "print(maria)"
      ],
      "execution_count": 23,
      "outputs": [
        {
          "output_type": "stream",
          "text": [
            "hello: 안녕하세요, name: 마리아, age: 30, addr: 서울시 강남구 도곡동\n"
          ],
          "name": "stdout"
        }
      ]
    },
    {
      "cell_type": "code",
      "metadata": {
        "id": "z0dtuYo_WFz_"
      },
      "source": [
        "class Person:\n",
        "  def __init__(self, name, age, addr, wallet): \n",
        "    self.name = name\n",
        "    self.age = age\n",
        "    self.addr = addr\n",
        "    self.__wallet = wallet ## __wallet 은 비공개\n",
        "\n",
        "  def greeting(self):\n",
        "    print(f'hi 저는 {self.name}입니다.')\n",
        "\n",
        "  def pay(self, amount):\n",
        "    if self.__wallet - amount < 0:\n",
        "      print('지갑에 돈이 부족합니다.')\n",
        "    else:\n",
        "      self.__wallet -= amount\n",
        "      print(f'{amount}원을 지불하였습니다. \\n현재 남은 금액은 {self.__wallet}원 입니다.')\n",
        "\n",
        "  # 자바 toString과 유사\n",
        "  def __str__(self):\n",
        "    return f'name: {self.name}, age: {self.age}, addr: {self.addr}, wallet: {self.__wallet}'"
      ],
      "execution_count": 37,
      "outputs": []
    },
    {
      "cell_type": "code",
      "metadata": {
        "colab": {
          "base_uri": "https://localhost:8080/"
        },
        "id": "I3b7ALbyV_YB",
        "outputId": "5c2c6094-0812-42ce-89a9-76b883ea2590"
      },
      "source": [
        "james = Person('james', 27, '서울시 강남구 역삼동', 10000)\n",
        "james.greeting()\n",
        "print(james)"
      ],
      "execution_count": 39,
      "outputs": [
        {
          "output_type": "stream",
          "text": [
            "hi 저는 james입니다.\n",
            "name: james, age: 27, addr: 서울시 강남구 역삼동, wallet: 10000\n"
          ],
          "name": "stdout"
        }
      ]
    },
    {
      "cell_type": "code",
      "metadata": {
        "id": "gjhLw_vfXDrU"
      },
      "source": [
        "james.__wallet = 1000000"
      ],
      "execution_count": 40,
      "outputs": []
    },
    {
      "cell_type": "code",
      "metadata": {
        "colab": {
          "base_uri": "https://localhost:8080/"
        },
        "id": "VIRc8hAcXIz4",
        "outputId": "8f8449f7-8a88-4a55-bd92-39c5a091d27b"
      },
      "source": [
        "print(james)"
      ],
      "execution_count": 41,
      "outputs": [
        {
          "output_type": "stream",
          "text": [
            "name: james, age: 27, addr: 서울시 강남구 역삼동, wallet: 10000\n"
          ],
          "name": "stdout"
        }
      ]
    },
    {
      "cell_type": "code",
      "metadata": {
        "colab": {
          "base_uri": "https://localhost:8080/"
        },
        "id": "5AHKGwoPYIFM",
        "outputId": "2a757009-dfa7-49be-eea9-b8dee3a2472b"
      },
      "source": [
        "james.pay(5000)"
      ],
      "execution_count": 42,
      "outputs": [
        {
          "output_type": "stream",
          "text": [
            "5000원을 지불하였습니다. \n",
            "현재 남은 금액은 5000원 입니다.\n"
          ],
          "name": "stdout"
        }
      ]
    },
    {
      "cell_type": "markdown",
      "metadata": {
        "id": "5d6qMyfuZfXt"
      },
      "source": [
        "#### 계좌 클래스 만들기"
      ]
    },
    {
      "cell_type": "code",
      "metadata": {
        "id": "pFNLtlxGZe5T"
      },
      "source": [
        "class Account:\n",
        "  def __init__(self, ano, owner, balance):\n",
        "    self.ano = ano\n",
        "    self.owner = owner\n",
        "    self.__balance = balance\n",
        "\n",
        "  def deposit(self, amount):\n",
        "    if self.__balance + amount >= 10000000:\n",
        "      print(\"잔액 초과로 입금 불가\")\n",
        "    else:\n",
        "      self.__balance += amount\n",
        "      print(f'잔액은 {self.__balance}원 입니다.')\n",
        "\n",
        "  def withdraw(self, amount):\n",
        "    if self.__balance - amount < 0:\n",
        "      print(\"잔액이 부족하여 출금할수 없습니다.\")\n",
        "    else:\n",
        "      self.__balance -= amount\n",
        "      print(f'잔액은 {self.__balance}원 입니다.')\n",
        "\n",
        "  def __str__(self):\n",
        "    return f'계좌번호: {self.ano}, 계좌주: {self.owner}, 잔액: {self.__balance:9,d}'"
      ],
      "execution_count": 51,
      "outputs": []
    },
    {
      "cell_type": "code",
      "metadata": {
        "colab": {
          "base_uri": "https://localhost:8080/"
        },
        "id": "w0dwl1YybuHk",
        "outputId": "61fc1c5a-64d7-40c9-fb24-19b07bd95c72"
      },
      "source": [
        "account1 = Account('123456', 'hanna', 9000000)\n",
        "print(account1)\n",
        "account1.deposit(1000001)\n",
        "account1.withdraw(9000001)\n",
        "print(account1)\n",
        "account1.deposit(1)\n",
        "print(account1)\n",
        "account1.withdraw(9000001)\n",
        "print(account1)"
      ],
      "execution_count": 52,
      "outputs": [
        {
          "output_type": "stream",
          "text": [
            "계좌번호: 123456, 계좌주: hanna, 잔액:   9000000\n",
            "잔액 초과로 입금 불가\n",
            "잔액이 부족하여 출금할수 없습니다.\n",
            "계좌번호: 123456, 계좌주: hanna, 잔액:   9000000\n",
            "잔액은 9000001원 입니다.\n",
            "계좌번호: 123456, 계좌주: hanna, 잔액:   9000001\n",
            "잔액은 0원 입니다.\n",
            "계좌번호: 123456, 계좌주: hanna, 잔액:         0\n"
          ],
          "name": "stdout"
        }
      ]
    },
    {
      "cell_type": "code",
      "metadata": {
        "colab": {
          "base_uri": "https://localhost:8080/"
        },
        "id": "HUSonrk7fPQG",
        "outputId": "dd9fa0d6-0c42-4494-d346-0a282a0d7b82"
      },
      "source": [
        "account2 = Account('987654', 'maria', 300000)\n",
        "print(account2)"
      ],
      "execution_count": 53,
      "outputs": [
        {
          "output_type": "stream",
          "text": [
            "계좌번호: 987654, 계좌주: maria, 잔액:    300000\n"
          ],
          "name": "stdout"
        }
      ]
    },
    {
      "cell_type": "code",
      "metadata": {
        "id": "VlDCkwITfWZF"
      },
      "source": [
        "acc_list = [account1, account2]"
      ],
      "execution_count": 54,
      "outputs": []
    },
    {
      "cell_type": "code",
      "metadata": {
        "colab": {
          "base_uri": "https://localhost:8080/"
        },
        "id": "TEJBG_0FfZii",
        "outputId": "32b1f6ed-0670-4f53-fd5a-d8b5f7721aba"
      },
      "source": [
        "for acc in acc_list:\n",
        "  print(acc)"
      ],
      "execution_count": 55,
      "outputs": [
        {
          "output_type": "stream",
          "text": [
            "계좌번호: 123456, 계좌주: hanna, 잔액:         0\n",
            "계좌번호: 987654, 계좌주: maria, 잔액:    300000\n"
          ],
          "name": "stdout"
        }
      ]
    },
    {
      "cell_type": "markdown",
      "metadata": {
        "id": "qxYNu8-UfsuK"
      },
      "source": [
        "### 1:계좌생성, 2:계좌목록, 3:입금, 4:출금, 5:종료"
      ]
    },
    {
      "cell_type": "code",
      "metadata": {
        "id": "LMvvaKiind5j"
      },
      "source": [
        "class Account:\n",
        "  def __init__(self, ano, owner, balance):\n",
        "    self.ano = ano\n",
        "    self.owner = owner\n",
        "    self.__balance = balance\n",
        "\n",
        "  def deposit(self, amount):\n",
        "    if self.__balance + amount >= 10000000:\n",
        "      print(\"잔액 초과로 입금 불가\")\n",
        "    else:\n",
        "      self.__balance += amount\n",
        "      print(f'{self.owner}님의 잔액은 {self.__balance}원 입니다.')\n",
        "\n",
        "  def withdraw(self, amount):\n",
        "    if self.__balance - amount < 0:\n",
        "      print(\"잔액이 부족하여 출금할수 없습니다.\")\n",
        "    else:\n",
        "      self.__balance -= amount\n",
        "      print(f'{self.owner}님의 잔액은 {self.__balance}원 입니다.')\n",
        "\n",
        "  def __str__(self):\n",
        "    return f'계좌번호: {self.ano}, 계좌주: {self.owner}, 잔액: {self.__balance:9,d}'"
      ],
      "execution_count": 72,
      "outputs": []
    },
    {
      "cell_type": "code",
      "metadata": {
        "id": "ysywY6PXk1Zf"
      },
      "source": [
        "acc_list = []"
      ],
      "execution_count": 73,
      "outputs": []
    },
    {
      "cell_type": "code",
      "metadata": {
        "id": "HZUnM8LzkM1c"
      },
      "source": [
        "def create_account():\n",
        "  new_ano, new_owner, new_balance = input('계좌번호 계좌주 잔액을 띄어쓰기로 구분하여 입력해주세요.').split()\n",
        "  for acc in acc_list:\n",
        "    if acc.ano == new_ano:\n",
        "      new_ano = input('중복된 계좌번호 입니다. 다시 입력해주세요')\n",
        "  new_acc = Account(new_ano, new_owner, int(new_balance))\n",
        "  acc_list.append(new_acc)\n",
        "\n",
        "def deposit_account():\n",
        "  target_ano, amount = input('계좌번호와 입금액을 띄어쓰기로 구분하여 입력해주세요.').split()\n",
        "  for acc in acc_list:\n",
        "    if acc.ano == target_ano:\n",
        "      acc.deposit(int(amount))\n",
        "      return\n",
        "\n",
        "def withdraw_account():\n",
        "  target_ano, amount = input('계좌번호와 출금액을 띄어쓰기로 구분하여 입력해주세요.').split()\n",
        "  for acc in acc_list:\n",
        "    if acc.ano == target_ano:\n",
        "      acc.withdraw(int(amount))\n",
        "      return"
      ],
      "execution_count": 76,
      "outputs": []
    },
    {
      "cell_type": "code",
      "metadata": {
        "colab": {
          "base_uri": "https://localhost:8080/"
        },
        "id": "I6MqHYFKfzZQ",
        "outputId": "d9b78064-9d7c-42f9-bcb5-2060921a8071"
      },
      "source": [
        "while True:\n",
        "  menu = int(input('1:계좌생성, 2:계좌목록, 3:입금, 4:출금, 5:종료 '))\n",
        "  if menu == 5:\n",
        "    print(f'종료합니다.')\n",
        "    break\n",
        "  elif menu == 1:\n",
        "    create_account()\n",
        "  elif menu == 2:\n",
        "    for account in acc_list:\n",
        "      print(account)\n",
        "  elif menu == 3:\n",
        "    deposit_account()\n",
        "  elif menu == 4:\n",
        "    withdraw_account()\n",
        "  else:\n",
        "    print('잘못된 입력입니다.')\n",
        "\n",
        "  print()"
      ],
      "execution_count": 75,
      "outputs": [
        {
          "output_type": "stream",
          "text": [
            "1:계좌생성, 2:계좌목록, 3:입금, 4:출금, 5:종료 2\n",
            "\n",
            "1:계좌생성, 2:계좌목록, 3:입금, 4:출금, 5:종료 1\n",
            "계좌번호 계좌주 잔액을 띄어쓰기로 구분하여 입력해주세요.987654 홍길동 10000\n",
            "\n",
            "1:계좌생성, 2:계좌목록, 3:입금, 4:출금, 5:종료 1\n",
            "계좌번호 계좌주 잔액을 띄어쓰기로 구분하여 입력해주세요.654321 박나래 20000\n",
            "\n",
            "1:계좌생성, 2:계좌목록, 3:입금, 4:출금, 5:종료 2\n",
            "계좌번호: 987654, 계좌주: 홍길동, 잔액:    10,000\n",
            "계좌번호: 654321, 계좌주: 박나래, 잔액:    20,000\n",
            "\n",
            "1:계좌생성, 2:계좌목록, 3:입금, 4:출금, 5:종료 3\n",
            "계좌번호와 입금액을 띄어쓰기로 구분하여 입력해주세요.987654 500000\n",
            "홍길동님의 잔액은 510000원 입니다.\n",
            "\n",
            "1:계좌생성, 2:계좌목록, 3:입금, 4:출금, 5:종료 5\n",
            "종료합니다.\n"
          ],
          "name": "stdout"
        }
      ]
    }
  ]
}