{
  "nbformat": 4,
  "nbformat_minor": 0,
  "metadata": {
    "colab": {
      "name": "u35_정적메서드.ipynb",
      "provenance": [],
      "collapsed_sections": []
    },
    "kernelspec": {
      "name": "python3",
      "display_name": "Python 3"
    },
    "language_info": {
      "name": "python"
    }
  },
  "cells": [
    {
      "cell_type": "markdown",
      "metadata": {
        "id": "1_fFpI2ZA6UZ"
      },
      "source": [
        "## Unit 35. 정적메서드"
      ]
    },
    {
      "cell_type": "code",
      "metadata": {
        "id": "X-JK4lJiA3vD"
      },
      "source": [
        "class Calc:\n",
        "  @staticmethod\n",
        "  def add(a, b):\n",
        "    print(a+b)\n",
        "  \n",
        "  @staticmethod\n",
        "  def sub(a, b):\n",
        "    print(a-b)  "
      ],
      "execution_count": 2,
      "outputs": []
    },
    {
      "cell_type": "code",
      "metadata": {
        "colab": {
          "base_uri": "https://localhost:8080/"
        },
        "id": "WQgxrk7lBW8e",
        "outputId": "db9162ef-7eb9-43e3-a700-251ece27aa50"
      },
      "source": [
        "Calc.add(10,20)"
      ],
      "execution_count": 4,
      "outputs": [
        {
          "output_type": "stream",
          "text": [
            "30\n"
          ],
          "name": "stdout"
        }
      ]
    }
  ]
}