{
  "nbformat": 4,
  "nbformat_minor": 0,
  "metadata": {
    "colab": {
      "name": "6회차_구자호_2.ipynb",
      "provenance": [],
      "collapsed_sections": []
    },
    "kernelspec": {
      "name": "python3",
      "display_name": "Python 3"
    },
    "language_info": {
      "name": "python"
    }
  },
  "cells": [
    {
      "cell_type": "code",
      "metadata": {
        "id": "e4EGRjmAA8Gt"
      },
      "source": [
        "### a + b + c = 1000 (a < b < c)\n",
        "# a*a + b*b = c*c 인 피타고라스 수는?\n",
        "\n"
      ],
      "execution_count": null,
      "outputs": []
    },
    {
      "cell_type": "code",
      "metadata": {
        "colab": {
          "base_uri": "https://localhost:8080/"
        },
        "id": "zh20YiflCLh5",
        "outputId": "adce4ae3-1342-4374-c3ee-63415cae99d3"
      },
      "source": [
        "## 15장 심사문제\n",
        "age = int(input())\n",
        "balance = 9000    # 교통카드 잔액\n",
        "\n",
        "if age < 13:\n",
        "  balance = balance - 650\n",
        "elif age < 19:\n",
        "  balance = balance - 1050\n",
        "else:\n",
        "  balance = balance - 1250\n",
        "\n",
        "print(balance)"
      ],
      "execution_count": null,
      "outputs": [
        {
          "output_type": "stream",
          "text": [
            "19\n",
            "7750\n"
          ],
          "name": "stdout"
        }
      ]
    },
    {
      "cell_type": "code",
      "metadata": {
        "colab": {
          "base_uri": "https://localhost:8080/"
        },
        "id": "G34snxqJDIln",
        "outputId": "e3ae7d80-8b6d-4b99-de4c-2f6282e7955f"
      },
      "source": [
        "## 16장 심사문제\n",
        "num = int(input())\n",
        "for i in range(1, 10):\n",
        "  print(f'{num} * {i} = {num*i}')"
      ],
      "execution_count": null,
      "outputs": [
        {
          "output_type": "stream",
          "text": [
            "10\n",
            "10 * 1 = 10\n",
            "10 * 2 = 20\n",
            "10 * 3 = 30\n",
            "10 * 4 = 40\n",
            "10 * 5 = 50\n",
            "10 * 6 = 60\n",
            "10 * 7 = 70\n",
            "10 * 8 = 80\n",
            "10 * 9 = 90\n"
          ],
          "name": "stdout"
        }
      ]
    },
    {
      "cell_type": "code",
      "metadata": {
        "colab": {
          "base_uri": "https://localhost:8080/"
        },
        "id": "UdiN52w0DyWN",
        "outputId": "09205ca8-132b-45dd-ec8d-ebeee567bd7c"
      },
      "source": [
        "## 17장 심사문제\n",
        "money = int(input())\n",
        "while money >= 1350:\n",
        "  money -= 1350\n",
        "  print(money)"
      ],
      "execution_count": null,
      "outputs": [
        {
          "output_type": "stream",
          "text": [
            "13500\n",
            "12150\n",
            "10800\n",
            "9450\n",
            "8100\n",
            "6750\n",
            "5400\n",
            "4050\n",
            "2700\n",
            "1350\n",
            "0\n"
          ],
          "name": "stdout"
        }
      ]
    },
    {
      "cell_type": "code",
      "metadata": {
        "colab": {
          "base_uri": "https://localhost:8080/"
        },
        "id": "P2IswGItH6DM",
        "outputId": "b7e805a2-9602-4259-a7d0-d285a7410c5a"
      },
      "source": [
        "## 18장 심사문제\n",
        "start, stop = map(int, input().split())\n",
        " \n",
        "i = start\n",
        " \n",
        "while True:\n",
        "  if i > stop:\n",
        "    break\n",
        "\n",
        "  if i % 10 == 3:\n",
        "    i += 1\n",
        "    continue\n",
        "  print(i, end=' ')\n",
        "  i += 1"
      ],
      "execution_count": null,
      "outputs": [
        {
          "output_type": "stream",
          "text": [
            "1 20\n",
            "1 2 4 5 6 7 8 9 10 11 12 14 15 16 17 18 19 20 "
          ],
          "name": "stdout"
        }
      ]
    },
    {
      "cell_type": "code",
      "metadata": {
        "colab": {
          "base_uri": "https://localhost:8080/"
        },
        "id": "6RJuNZ2QRAMM",
        "outputId": "d0fcd1ab-0ec4-40f2-9e5c-efbe0b78d96e"
      },
      "source": [
        "## 19장 심사문제\n",
        "star = int(input())\n",
        "\n",
        "for i in range(1, star+1):\n",
        "  print(' ' * (star-i), '*' * (2*i-1), sep='' )"
      ],
      "execution_count": 32,
      "outputs": [
        {
          "output_type": "stream",
          "text": [
            "3\n",
            "  *\n",
            " ***\n",
            "*****\n"
          ],
          "name": "stdout"
        }
      ]
    },
    {
      "cell_type": "code",
      "metadata": {
        "colab": {
          "base_uri": "https://localhost:8080/"
        },
        "id": "3pIaGyH-V554",
        "outputId": "a138b053-1c58-4550-9cd1-ba2acdaf672f"
      },
      "source": [
        "## 22장 심사문제\n",
        "start, end = map(int, input().split())\n",
        "sq = []\n",
        "for i in range(start, end+1):\n",
        "  sq.append(2 ** i)\n",
        "del sq[1]\n",
        "del sq[-2]\n",
        "print(sq)"
      ],
      "execution_count": 37,
      "outputs": [
        {
          "output_type": "stream",
          "text": [
            "10 20\n",
            "[1024, 4096, 8192, 16384, 32768, 65536, 131072, 262144, 1048576]\n"
          ],
          "name": "stdout"
        }
      ]
    }
  ]
}