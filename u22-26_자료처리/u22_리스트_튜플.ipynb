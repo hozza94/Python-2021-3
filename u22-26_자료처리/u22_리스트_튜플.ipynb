{
  "nbformat": 4,
  "nbformat_minor": 0,
  "metadata": {
    "colab": {
      "name": "u22_리스트_튜플.ipynb",
      "provenance": [],
      "collapsed_sections": []
    },
    "kernelspec": {
      "name": "python3",
      "display_name": "Python 3"
    },
    "language_info": {
      "name": "python"
    }
  },
  "cells": [
    {
      "cell_type": "markdown",
      "metadata": {
        "id": "JhQtcwsJqUzF"
      },
      "source": [
        "## Unit 22. 리스트, 튜플 응용"
      ]
    },
    {
      "cell_type": "markdown",
      "metadata": {
        "id": "sXUeuRomqf-e"
      },
      "source": [
        "### 22.1 리스트 조작\n"
      ]
    },
    {
      "cell_type": "code",
      "metadata": {
        "colab": {
          "base_uri": "https://localhost:8080/"
        },
        "id": "e5hBYYl8p5ZO",
        "outputId": "fdb189d5-60b3-4ddc-900a-0c8d36961765"
      },
      "source": [
        "a = [10, 20, 30]\n",
        "\n",
        "a.append(500)\n",
        "a"
      ],
      "execution_count": 1,
      "outputs": [
        {
          "output_type": "execute_result",
          "data": {
            "text/plain": [
              "[10, 20, 30, 500]"
            ]
          },
          "metadata": {
            "tags": []
          },
          "execution_count": 1
        }
      ]
    },
    {
      "cell_type": "code",
      "metadata": {
        "colab": {
          "base_uri": "https://localhost:8080/"
        },
        "id": "wCWoAKCJrufA",
        "outputId": "d972e4b6-73eb-4c54-ac07-5133c1c7d158"
      },
      "source": [
        "a.append(['x','y'])\n",
        "a"
      ],
      "execution_count": 2,
      "outputs": [
        {
          "output_type": "execute_result",
          "data": {
            "text/plain": [
              "[10, 20, 30, 500, ['x', 'y']]"
            ]
          },
          "metadata": {
            "tags": []
          },
          "execution_count": 2
        }
      ]
    },
    {
      "cell_type": "code",
      "metadata": {
        "colab": {
          "base_uri": "https://localhost:8080/"
        },
        "id": "h8hnGrGkrysc",
        "outputId": "961367b8-827a-4aca-894a-418b58f5f7e3"
      },
      "source": [
        "b = [10,20,30]\n",
        "b.extend(['x','y'])\n",
        "b"
      ],
      "execution_count": 4,
      "outputs": [
        {
          "output_type": "execute_result",
          "data": {
            "text/plain": [
              "[10, 20, 30, 'x', 'y']"
            ]
          },
          "metadata": {
            "tags": []
          },
          "execution_count": 4
        }
      ]
    },
    {
      "cell_type": "code",
      "metadata": {
        "colab": {
          "base_uri": "https://localhost:8080/"
        },
        "id": "vpTUgbAIsPlH",
        "outputId": "d366ea4b-1da7-4c65-c96b-0d08061d7c2e"
      },
      "source": [
        "empty_list = []\n",
        "for i in range(5):\n",
        "  empty_list.append(i)\n",
        "empty_list"
      ],
      "execution_count": 5,
      "outputs": [
        {
          "output_type": "execute_result",
          "data": {
            "text/plain": [
              "[0, 1, 2, 3, 4]"
            ]
          },
          "metadata": {
            "tags": []
          },
          "execution_count": 5
        }
      ]
    },
    {
      "cell_type": "markdown",
      "metadata": {
        "id": "K-I1kpKkuCYk"
      },
      "source": [
        "### stack and Queue"
      ]
    },
    {
      "cell_type": "code",
      "metadata": {
        "colab": {
          "base_uri": "https://localhost:8080/"
        },
        "id": "CIwJkHgSuDtg",
        "outputId": "e1cc04dd-03cc-495a-fd2b-dde5f117e10b"
      },
      "source": [
        "stack = []\n",
        "stack.append(1); stack.append(2); stack.append(3)\n",
        "stack\n",
        "\n",
        "value = stack.pop()\n",
        "print(stack, value)\n"
      ],
      "execution_count": 8,
      "outputs": [
        {
          "output_type": "stream",
          "text": [
            "[1, 2] 3\n"
          ],
          "name": "stdout"
        }
      ]
    },
    {
      "cell_type": "code",
      "metadata": {
        "colab": {
          "base_uri": "https://localhost:8080/"
        },
        "id": "7dtLqDnTu8Cq",
        "outputId": "04f41e0a-777a-404d-b087-f274161ce3aa"
      },
      "source": [
        "queue = []\n",
        "queue.insert(0,1)\n",
        "queue.insert(0,2)\n",
        "queue.insert(0,3)\n",
        "queue"
      ],
      "execution_count": 9,
      "outputs": [
        {
          "output_type": "execute_result",
          "data": {
            "text/plain": [
              "[3, 2, 1]"
            ]
          },
          "metadata": {
            "tags": []
          },
          "execution_count": 9
        }
      ]
    },
    {
      "cell_type": "code",
      "metadata": {
        "colab": {
          "base_uri": "https://localhost:8080/"
        },
        "id": "glQFtmQdvXXc",
        "outputId": "2a7e6dc7-5f9e-4856-81b8-4f22afad9cc5"
      },
      "source": [
        "value = queue.pop()\n",
        "print(value, queue)"
      ],
      "execution_count": 10,
      "outputs": [
        {
          "output_type": "stream",
          "text": [
            "1 [3, 2]\n"
          ],
          "name": "stdout"
        }
      ]
    },
    {
      "cell_type": "markdown",
      "metadata": {
        "id": "V5MaUx9cvvid"
      },
      "source": [
        "### 다양한 메소드"
      ]
    },
    {
      "cell_type": "code",
      "metadata": {
        "colab": {
          "base_uri": "https://localhost:8080/"
        },
        "id": "sfx-YyfYvwwU",
        "outputId": "a4d223ba-ff86-4bf3-f26a-73ac95eebb58"
      },
      "source": [
        "a = [10, 20, 30, 40, 50]\n",
        "a.index(30)\n",
        "\n",
        "num = 45\n",
        "if num in a:\n",
        "  idx = a.index(num)\n",
        "\n",
        "a.count(10)"
      ],
      "execution_count": 14,
      "outputs": [
        {
          "output_type": "execute_result",
          "data": {
            "text/plain": [
              "1"
            ]
          },
          "metadata": {
            "tags": []
          },
          "execution_count": 14
        }
      ]
    },
    {
      "cell_type": "markdown",
      "metadata": {
        "id": "Ar389VmWxPTk"
      },
      "source": [
        "### 정렬(sort)"
      ]
    },
    {
      "cell_type": "code",
      "metadata": {
        "colab": {
          "base_uri": "https://localhost:8080/"
        },
        "id": "FsEkHa8ExQnx",
        "outputId": "739c6745-79b2-4c23-e82d-4eb9e14ea3ba"
      },
      "source": [
        "a = [20, 10, 15, 30, 540]\n",
        "a.sort()\n",
        "print(a)\n",
        "\n",
        "b = [20, 10, 15, 30, 540]\n",
        "sorted(b)\n",
        "print(b)\n",
        "\n",
        "a.sort(reverse=True)\n",
        "\n",
        "print(a)"
      ],
      "execution_count": 18,
      "outputs": [
        {
          "output_type": "stream",
          "text": [
            "[10, 15, 20, 30, 540]\n",
            "[20, 10, 15, 30, 540]\n",
            "[540, 30, 20, 15, 10]\n"
          ],
          "name": "stdout"
        }
      ]
    },
    {
      "cell_type": "markdown",
      "metadata": {
        "id": "ZsNjv4b8zOw1"
      },
      "source": [
        "### 22.2 리스트 할당과 복사"
      ]
    },
    {
      "cell_type": "code",
      "metadata": {
        "colab": {
          "base_uri": "https://localhost:8080/"
        },
        "id": "0OQwDVWSzQVn",
        "outputId": "a6e2250e-3849-4f26-bd4f-4817e9c7e9c0"
      },
      "source": [
        "# shallow copy\n",
        "# b가 a의 주소를 가리킴\n",
        "a = [0, 0, 0, 0, 0]\n",
        "b = a\n",
        "b\n",
        "\n",
        "c = a.copy()\n",
        "c[2] = 1\n",
        "print(c, a)"
      ],
      "execution_count": 20,
      "outputs": [
        {
          "output_type": "stream",
          "text": [
            "[0, 0, 1, 0, 0] [0, 0, 0, 0, 0]\n"
          ],
          "name": "stdout"
        }
      ]
    },
    {
      "cell_type": "markdown",
      "metadata": {
        "id": "iSlX9_6A4Pep"
      },
      "source": [
        "### 22.4 리스트에서 min max sum"
      ]
    },
    {
      "cell_type": "code",
      "metadata": {
        "colab": {
          "base_uri": "https://localhost:8080/"
        },
        "id": "ov28_XBX4Rxz",
        "outputId": "7906f4f2-f670-488c-e555-de21a1fdb8f8"
      },
      "source": [
        "a = [38, 21, 53, 62, 19]\n",
        "a.sort()\n",
        "a[0] == min(a)"
      ],
      "execution_count": 23,
      "outputs": [
        {
          "output_type": "execute_result",
          "data": {
            "text/plain": [
              "True"
            ]
          },
          "metadata": {
            "tags": []
          },
          "execution_count": 23
        }
      ]
    },
    {
      "cell_type": "markdown",
      "metadata": {
        "id": "ZLKtzBjS6AeQ"
      },
      "source": [
        "### 22.5 리스트 표현식(comprehension)"
      ]
    },
    {
      "cell_type": "code",
      "metadata": {
        "colab": {
          "base_uri": "https://localhost:8080/"
        },
        "id": "pp_hYsE66DKl",
        "outputId": "72bd2051-6833-440f-af4e-c2d91cd2e899"
      },
      "source": [
        "fruits = ['apple', 'banana', 'cherry']\n",
        "\n",
        "[fruit for fruit in fruits]"
      ],
      "execution_count": 26,
      "outputs": [
        {
          "output_type": "execute_result",
          "data": {
            "text/plain": [
              "['apple', 'banana', 'cherry']"
            ]
          },
          "metadata": {
            "tags": []
          },
          "execution_count": 26
        }
      ]
    },
    {
      "cell_type": "code",
      "metadata": {
        "colab": {
          "base_uri": "https://localhost:8080/"
        },
        "id": "YAP5VqqJ6k8Y",
        "outputId": "7016261b-ee21-43dd-e679-9ac2a7438dcd"
      },
      "source": [
        "[fruit*index for index, fruit in enumerate(fruits)]"
      ],
      "execution_count": 27,
      "outputs": [
        {
          "output_type": "execute_result",
          "data": {
            "text/plain": [
              "['', 'banana', 'cherrycherry']"
            ]
          },
          "metadata": {
            "tags": []
          },
          "execution_count": 27
        }
      ]
    },
    {
      "cell_type": "code",
      "metadata": {
        "colab": {
          "base_uri": "https://localhost:8080/"
        },
        "id": "4dRycqd560lN",
        "outputId": "94f5d93f-6bf4-48ac-9065-34146662fc78"
      },
      "source": [
        "[x*x for x in range(5)]"
      ],
      "execution_count": 28,
      "outputs": [
        {
          "output_type": "execute_result",
          "data": {
            "text/plain": [
              "[0, 1, 4, 9, 16]"
            ]
          },
          "metadata": {
            "tags": []
          },
          "execution_count": 28
        }
      ]
    },
    {
      "cell_type": "markdown",
      "metadata": {
        "id": "Nq_SEF8B8B8_"
      },
      "source": [
        "### 표현식에서 if 조건문 사용하기\n"
      ]
    },
    {
      "cell_type": "code",
      "metadata": {
        "colab": {
          "base_uri": "https://localhost:8080/"
        },
        "id": "X5FcQzrx8Bcm",
        "outputId": "cfa689fa-393a-4742-ad47-b20fce2c19d3"
      },
      "source": [
        "[x*x for x in range(1,11) if x % 2 ==1]"
      ],
      "execution_count": 29,
      "outputs": [
        {
          "output_type": "execute_result",
          "data": {
            "text/plain": [
              "[1, 9, 25, 49, 81]"
            ]
          },
          "metadata": {
            "tags": []
          },
          "execution_count": 29
        }
      ]
    },
    {
      "cell_type": "markdown",
      "metadata": {
        "id": "BiIiGlmt9Kd9"
      },
      "source": [
        "### 표현식 다중 for loop\n"
      ]
    },
    {
      "cell_type": "code",
      "metadata": {
        "colab": {
          "base_uri": "https://localhost:8080/"
        },
        "id": "i8IzAQhi89P0",
        "outputId": "2163048c-5e5a-4894-8e38-a8fad498647d"
      },
      "source": [
        "a = [i*k for i in range(2,10) for k in range(1,10)]\n",
        "print(a)"
      ],
      "execution_count": 31,
      "outputs": [
        {
          "output_type": "stream",
          "text": [
            "[2, 4, 6, 8, 10, 12, 14, 16, 18, 3, 6, 9, 12, 15, 18, 21, 24, 27, 4, 8, 12, 16, 20, 24, 28, 32, 36, 5, 10, 15, 20, 25, 30, 35, 40, 45, 6, 12, 18, 24, 30, 36, 42, 48, 54, 7, 14, 21, 28, 35, 42, 49, 56, 63, 8, 16, 24, 32, 40, 48, 56, 64, 72, 9, 18, 27, 36, 45, 54, 63, 72, 81]\n"
          ],
          "name": "stdout"
        }
      ]
    },
    {
      "cell_type": "markdown",
      "metadata": {
        "id": "qJVVSSRO-GYC"
      },
      "source": [
        "### 22.6 map\n"
      ]
    },
    {
      "cell_type": "code",
      "metadata": {
        "colab": {
          "base_uri": "https://localhost:8080/"
        },
        "id": "4SGdv2MR-IV3",
        "outputId": "e906804e-c4b3-4040-bc44-e8e1c9348ceb"
      },
      "source": [
        "a = [1.2, 2.3, 3.5, 4.8]\n",
        "for i in range(len(a)):\n",
        "  a[i] = int(a[i])\n",
        "print(a)\n",
        "\n",
        "a = list(map(int, a))\n",
        "print(a)"
      ],
      "execution_count": 35,
      "outputs": [
        {
          "output_type": "stream",
          "text": [
            "[1, 2, 3, 4]\n",
            "[1, 2, 3, 4]\n"
          ],
          "name": "stdout"
        }
      ]
    },
    {
      "cell_type": "markdown",
      "metadata": {
        "id": "OMJi8eTeADbP"
      },
      "source": [
        "### 22.7 Tuple"
      ]
    },
    {
      "cell_type": "code",
      "metadata": {
        "id": "VITz60nq_DcF"
      },
      "source": [
        "tuple(i*i )"
      ],
      "execution_count": null,
      "outputs": []
    }
  ]
}