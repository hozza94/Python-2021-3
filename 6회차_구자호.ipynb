{
  "nbformat": 4,
  "nbformat_minor": 0,
  "metadata": {
    "colab": {
      "name": "6회차_구자호.ipynb",
      "provenance": [],
      "collapsed_sections": []
    },
    "kernelspec": {
      "name": "python3",
      "display_name": "Python 3"
    },
    "language_info": {
      "name": "python"
    }
  },
  "cells": [
    {
      "cell_type": "code",
      "metadata": {
        "colab": {
          "base_uri": "https://localhost:8080/"
        },
        "id": "SmjCJ8oYwdZ7",
        "outputId": "1e1f6b01-2f3e-4646-ed3f-7fa90a15ce07"
      },
      "source": [
        "# 8장 심사문제\n",
        "kr, en, ma, sc = map(int, input().split())\n",
        "\n",
        "if kr >= 90 and en > 80 and ma > 85 and sc >= 80:\n",
        "  print(True)\n",
        "else:\n",
        "  print(False)"
      ],
      "execution_count": 13,
      "outputs": [
        {
          "output_type": "stream",
          "text": [
            "90 81 86 80\n",
            "True\n"
          ],
          "name": "stdout"
        }
      ]
    },
    {
      "cell_type": "code",
      "metadata": {
        "colab": {
          "base_uri": "https://localhost:8080/"
        },
        "id": "Ov7nKbFXymig",
        "outputId": "776d0d7a-e7eb-4e9b-d210-beb5eb6076fb"
      },
      "source": [
        "# 9장 심사문제\n",
        "s = \"'Python'\" + ''' is a \"programming language\"\n",
        "that lets you work quickly\n",
        "and\n",
        "integrate systems more effectively.'''\n",
        "\n",
        "print(s)"
      ],
      "execution_count": 16,
      "outputs": [
        {
          "output_type": "stream",
          "text": [
            "'Python' is a \"programming language\"\n",
            "that lets you work quickly\n",
            "and\n",
            "integrate systems more effectively. \n"
          ],
          "name": "stdout"
        }
      ]
    },
    {
      "cell_type": "code",
      "metadata": {
        "colab": {
          "base_uri": "https://localhost:8080/"
        },
        "id": "VDIfsiiizJGX",
        "outputId": "184d299e-a7bc-4465-fed0-b72eb3c039cd"
      },
      "source": [
        "# 10장 심사문제\n",
        "i = int(input())\n",
        "arr = tuple((range(-10, 10, i)))\n",
        "print(arr)"
      ],
      "execution_count": 19,
      "outputs": [
        {
          "output_type": "stream",
          "text": [
            "2\n",
            "(-10, -8, -6, -4, -2, 0, 2, 4, 6, 8)\n"
          ],
          "name": "stdout"
        }
      ]
    },
    {
      "cell_type": "code",
      "metadata": {
        "colab": {
          "base_uri": "https://localhost:8080/"
        },
        "id": "c9OluW0p1sVb",
        "outputId": "f0bf60bf-ea41-482f-d30e-aa54cf95cf8a"
      },
      "source": [
        "# 11.8 심사문제\n",
        "x = input().split()\n",
        "x = x[:-5]\n",
        "print(tuple(x))"
      ],
      "execution_count": 23,
      "outputs": [
        {
          "output_type": "stream",
          "text": [
            "1 2 3 4 5 6 7 8 9 10\n",
            "('1', '2', '3', '4', '5')\n"
          ],
          "name": "stdout"
        }
      ]
    },
    {
      "cell_type": "code",
      "metadata": {
        "colab": {
          "base_uri": "https://localhost:8080/"
        },
        "id": "JI2P6i-m2RH7",
        "outputId": "1717354e-ce73-4e81-f5f2-76f8f992d374"
      },
      "source": [
        "# 11.9 심사문제\n",
        "fir = input()\n",
        "sec = input()\n",
        "print(fir[1::2] + sec[0::2])"
      ],
      "execution_count": 24,
      "outputs": [
        {
          "output_type": "stream",
          "text": [
            "python\n",
            "python\n",
            "yhnpto\n"
          ],
          "name": "stdout"
        }
      ]
    },
    {
      "cell_type": "code",
      "metadata": {
        "colab": {
          "base_uri": "https://localhost:8080/"
        },
        "id": "KnUl11eD3HAl",
        "outputId": "d35fe333-dd5c-486c-ce8e-ae914f6e5590"
      },
      "source": [
        "# 12장 심사문제\n",
        "keys = input().split()\n",
        "values = list(map(float, input().split()))\n",
        "d = dict()\n",
        "for i in range(0, len(keys)):\n",
        "  d[keys[i]] = values[i]\n",
        "\n",
        "print(d)"
      ],
      "execution_count": 33,
      "outputs": [
        {
          "output_type": "stream",
          "text": [
            "health mana melee attack_speed magic_resistance\n",
            "573.6 308.8 600 0.625 35.7\n",
            "{'health': 573.6, 'mana': 308.8, 'melee': 600.0, 'attack_speed': 0.625, 'magic_resistance': 35.7}\n"
          ],
          "name": "stdout"
        }
      ]
    },
    {
      "cell_type": "code",
      "metadata": {
        "colab": {
          "base_uri": "https://localhost:8080/"
        },
        "id": "aLb9h6li8qx3",
        "outputId": "359bb42f-21a2-43fc-c1ca-243d51af6446"
      },
      "source": [
        "# 13장 심사문제\n",
        "price = int(input())\n",
        "coupon = input()\n",
        "cash = price - int(coupon[4:])\n",
        "print(cash)"
      ],
      "execution_count": 34,
      "outputs": [
        {
          "output_type": "stream",
          "text": [
            "27000\n",
            "Cash3000\n",
            "24000\n"
          ],
          "name": "stdout"
        }
      ]
    },
    {
      "cell_type": "code",
      "metadata": {
        "colab": {
          "base_uri": "https://localhost:8080/"
        },
        "id": "RTKGMYsO9FEW",
        "outputId": "b5146523-876c-4c42-b23f-3d06e59f64fa"
      },
      "source": [
        "# 14장 심사문제\n",
        "kr, en, ma, sc = map(int, input().split())\n",
        "if (kr * en * ma * sc < 0) or (kr > 100 or en > 100 or ma > 100 or sc > 100):\n",
        "  print('잘못된 점수')\n",
        "else:\n",
        "  score = kr + en + ma + sc\n",
        "  if score/4 >= 80:\n",
        "    print('합격')\n",
        "  else:\n",
        "    print('불합격')"
      ],
      "execution_count": 37,
      "outputs": [
        {
          "output_type": "stream",
          "text": [
            "99 85 101 90\n",
            "잘못된 점수\n"
          ],
          "name": "stdout"
        }
      ]
    }
  ]
}