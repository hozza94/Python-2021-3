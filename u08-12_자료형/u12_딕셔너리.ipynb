{
  "nbformat": 4,
  "nbformat_minor": 0,
  "metadata": {
    "colab": {
      "name": "u12_딕셔너리.ipynb",
      "provenance": [],
      "collapsed_sections": []
    },
    "kernelspec": {
      "name": "python3",
      "display_name": "Python 3"
    },
    "language_info": {
      "name": "python"
    }
  },
  "cells": [
    {
      "cell_type": "markdown",
      "metadata": {
        "id": "4ycDhX8ARmky"
      },
      "source": [
        "## Unit 12. 딕셔너리"
      ]
    },
    {
      "cell_type": "code",
      "metadata": {
        "colab": {
          "base_uri": "https://localhost:8080/"
        },
        "id": "6-j9PqCCRgFs",
        "outputId": "58e9da95-a631-4d18-da69-4a2223232021"
      },
      "source": [
        "lux = [490, 334, 550, 18.72]\n",
        "lux"
      ],
      "execution_count": 2,
      "outputs": [
        {
          "output_type": "execute_result",
          "data": {
            "text/plain": [
              "[490, 334, 550, 18.72]"
            ]
          },
          "metadata": {
            "tags": []
          },
          "execution_count": 2
        }
      ]
    },
    {
      "cell_type": "code",
      "metadata": {
        "colab": {
          "base_uri": "https://localhost:8080/"
        },
        "id": "lqB5u3inSLcK",
        "outputId": "a3397f30-1e04-48f9-9717-8edad429d3a6"
      },
      "source": [
        "lux = {\n",
        "    'helath' : 490,\n",
        "    'mana' : 334,\n",
        "    'melee' : 550,\n",
        "    'armor' : 18.72\n",
        "}\n",
        "lux"
      ],
      "execution_count": 3,
      "outputs": [
        {
          "output_type": "execute_result",
          "data": {
            "text/plain": [
              "{'armor': 18.72, 'helath': 490, 'mana': 334, 'melee': 550}"
            ]
          },
          "metadata": {
            "tags": []
          },
          "execution_count": 3
        }
      ]
    },
    {
      "cell_type": "markdown",
      "metadata": {
        "id": "imHJYcXhTjTT"
      },
      "source": [
        "### 12.1 딕셔너리 생성\n"
      ]
    },
    {
      "cell_type": "code",
      "metadata": {
        "colab": {
          "base_uri": "https://localhost:8080/"
        },
        "id": "fIApLJ9hTlyk",
        "outputId": "a89e345a-c301-4697-a861-3ea21cce2b7b"
      },
      "source": [
        "lux = {\n",
        "    'helath' : 490,\n",
        "    'helath' : 800,\n",
        "    'mana' : 334,\n",
        "    'melee' : 550,\n",
        "    'armor' : 18.72\n",
        "}\n",
        "lux"
      ],
      "execution_count": 4,
      "outputs": [
        {
          "output_type": "execute_result",
          "data": {
            "text/plain": [
              "{'armor': 18.72, 'helath': 800, 'mana': 334, 'melee': 550}"
            ]
          },
          "metadata": {
            "tags": []
          },
          "execution_count": 4
        }
      ]
    },
    {
      "cell_type": "code",
      "metadata": {
        "colab": {
          "base_uri": "https://localhost:8080/"
        },
        "id": "EWhesu4aT74Y",
        "outputId": "e5fd36d2-0cf3-4ae0-ad95-8a04168cea44"
      },
      "source": [
        "a = {}\n",
        "b = dict()\n",
        "a, b"
      ],
      "execution_count": 5,
      "outputs": [
        {
          "output_type": "execute_result",
          "data": {
            "text/plain": [
              "({}, {})"
            ]
          },
          "metadata": {
            "tags": []
          },
          "execution_count": 5
        }
      ]
    },
    {
      "cell_type": "code",
      "metadata": {
        "colab": {
          "base_uri": "https://localhost:8080/"
        },
        "id": "PkKBaBpeVABY",
        "outputId": "a9f411a4-2e77-4939-fac9-9ae6281dd7e8"
      },
      "source": [
        "a = set([1,2,3])\n",
        "a"
      ],
      "execution_count": 6,
      "outputs": [
        {
          "output_type": "execute_result",
          "data": {
            "text/plain": [
              "{1, 2, 3}"
            ]
          },
          "metadata": {
            "tags": []
          },
          "execution_count": 6
        }
      ]
    },
    {
      "cell_type": "code",
      "metadata": {
        "colab": {
          "base_uri": "https://localhost:8080/"
        },
        "id": "AvfXUztMVlNS",
        "outputId": "4a1c8d88-731f-43a5-bf8c-9c7ee5a090f4"
      },
      "source": [
        "a = ['a','b','c','d']\n",
        "b = [1,2,3,4]\n",
        "dict(zip(a,b))"
      ],
      "execution_count": 7,
      "outputs": [
        {
          "output_type": "execute_result",
          "data": {
            "text/plain": [
              "{'a': 1, 'b': 2, 'c': 3, 'd': 4}"
            ]
          },
          "metadata": {
            "tags": []
          },
          "execution_count": 7
        }
      ]
    },
    {
      "cell_type": "markdown",
      "metadata": {
        "id": "UiyzO31sWE7S"
      },
      "source": [
        "### 12.2 딕셔너리 키에 접근하고 값 할당하기"
      ]
    },
    {
      "cell_type": "code",
      "metadata": {
        "colab": {
          "base_uri": "https://localhost:8080/"
        },
        "id": "m2a1ekFkVqeR",
        "outputId": "526e053c-8c0f-4131-83d6-a86af7ee45a0"
      },
      "source": [
        "lux['mana']\n",
        "\n",
        "## javascript => Object, obj = [key:value], obj.key로 사용 "
      ],
      "execution_count": 8,
      "outputs": [
        {
          "output_type": "execute_result",
          "data": {
            "text/plain": [
              "334"
            ]
          },
          "metadata": {
            "tags": []
          },
          "execution_count": 8
        }
      ]
    },
    {
      "cell_type": "code",
      "metadata": {
        "colab": {
          "base_uri": "https://localhost:8080/"
        },
        "id": "fTu2Qpj9W-BG",
        "outputId": "b3eed8eb-9961-4fc6-8be9-2a34e4736c94"
      },
      "source": [
        "lux['new'] = 10\n",
        "lux"
      ],
      "execution_count": 11,
      "outputs": [
        {
          "output_type": "execute_result",
          "data": {
            "text/plain": [
              "{'armor': 18.72, 'helath': 800, 'mana': 334, 'melee': 550, 'new': 10}"
            ]
          },
          "metadata": {
            "tags": []
          },
          "execution_count": 11
        }
      ]
    },
    {
      "cell_type": "code",
      "metadata": {
        "colab": {
          "base_uri": "https://localhost:8080/"
        },
        "id": "jwB3HH_YYiau",
        "outputId": "c117d737-b9b9-4f9d-c9f8-8e3b77c08737"
      },
      "source": [
        "e = {'mana' : 150}\n",
        "\n",
        "if 'mana' in e:\n",
        "  e['mana'] = e['mana'] + 100\n",
        "else:\n",
        "  e['mana']  = 50\n",
        "\n",
        "e"
      ],
      "execution_count": 14,
      "outputs": [
        {
          "output_type": "execute_result",
          "data": {
            "text/plain": [
              "{'mana': 250}"
            ]
          },
          "metadata": {
            "tags": []
          },
          "execution_count": 14
        }
      ]
    },
    {
      "cell_type": "markdown",
      "metadata": {
        "id": "8_oL-AOBZdvE"
      },
      "source": [
        "### 딕셔너리 키의 갯수\n"
      ]
    },
    {
      "cell_type": "code",
      "metadata": {
        "colab": {
          "base_uri": "https://localhost:8080/"
        },
        "id": "h_VptcYvZgKt",
        "outputId": "f59e8492-78b7-4f9e-8490-3d9c9d3239d5"
      },
      "source": [
        "print(lux)\n",
        "len(lux)"
      ],
      "execution_count": 15,
      "outputs": [
        {
          "output_type": "stream",
          "text": [
            "{'helath': 800, 'mana': 334, 'melee': 550, 'armor': 18.72, 'new': 10}\n"
          ],
          "name": "stdout"
        },
        {
          "output_type": "execute_result",
          "data": {
            "text/plain": [
              "5"
            ]
          },
          "metadata": {
            "tags": []
          },
          "execution_count": 15
        }
      ]
    },
    {
      "cell_type": "markdown",
      "metadata": {
        "id": "js6lti8CZ3Pp"
      },
      "source": [
        "### 자료형"
      ]
    },
    {
      "cell_type": "code",
      "metadata": {
        "colab": {
          "base_uri": "https://localhost:8080/"
        },
        "id": "KQDxZ7XaZ1DJ",
        "outputId": "261bf60d-9043-46fb-af46-6b7ed6394381"
      },
      "source": [
        "type(lux['armor'])"
      ],
      "execution_count": 18,
      "outputs": [
        {
          "output_type": "execute_result",
          "data": {
            "text/plain": [
              "float"
            ]
          },
          "metadata": {
            "tags": []
          },
          "execution_count": 18
        }
      ]
    },
    {
      "cell_type": "code",
      "metadata": {
        "colab": {
          "base_uri": "https://localhost:8080/"
        },
        "id": "FvB4HiFfakg2",
        "outputId": "e310060f-6531-4bbf-a5d8-b05a0fb5dbb1"
      },
      "source": [
        "print(lux.keys())\n",
        "print(lux.values())"
      ],
      "execution_count": 19,
      "outputs": [
        {
          "output_type": "stream",
          "text": [
            "dict_keys(['helath', 'mana', 'melee', 'armor', 'new'])\n",
            "dict_values([800, 334, 550, 18.72, 10])\n"
          ],
          "name": "stdout"
        }
      ]
    },
    {
      "cell_type": "code",
      "metadata": {
        "colab": {
          "base_uri": "https://localhost:8080/"
        },
        "id": "SJ-Myu3WbWJc",
        "outputId": "d1c7c5c5-ca5b-49b8-bd22-4ba2c16cd08b"
      },
      "source": [
        "for key, value in lux.items():\n",
        "  print(key, value)"
      ],
      "execution_count": 21,
      "outputs": [
        {
          "output_type": "stream",
          "text": [
            "helath 800\n",
            "mana 334\n",
            "melee 550\n",
            "armor 18.72\n",
            "new 10\n"
          ],
          "name": "stdout"
        }
      ]
    }
  ]
}