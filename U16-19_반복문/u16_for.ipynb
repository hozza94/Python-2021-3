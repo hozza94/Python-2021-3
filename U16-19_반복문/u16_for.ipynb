{
  "nbformat": 4,
  "nbformat_minor": 0,
  "metadata": {
    "colab": {
      "name": "u16_for.ipynb",
      "provenance": [],
      "collapsed_sections": []
    },
    "kernelspec": {
      "name": "python3",
      "display_name": "Python 3"
    },
    "language_info": {
      "name": "python"
    }
  },
  "cells": [
    {
      "cell_type": "markdown",
      "metadata": {
        "id": "RArzr6OPs7xY"
      },
      "source": [
        "## Unit 16. for"
      ]
    },
    {
      "cell_type": "markdown",
      "metadata": {
        "id": "MioKhvkOtMNS"
      },
      "source": [
        "### 16.1 for and range"
      ]
    },
    {
      "cell_type": "code",
      "metadata": {
        "colab": {
          "base_uri": "https://localhost:8080/"
        },
        "id": "BPgQ6o27tN_S",
        "outputId": "20e59d89-6cc6-4dc9-b5e3-7d6c2c91b3ea"
      },
      "source": [
        "for i in range(10):\n",
        "  print('hello', i)"
      ],
      "execution_count": 2,
      "outputs": [
        {
          "output_type": "stream",
          "text": [
            "hello 0\n",
            "hello 1\n",
            "hello 2\n",
            "hello 3\n",
            "hello 4\n",
            "hello 5\n",
            "hello 6\n",
            "hello 7\n",
            "hello 8\n",
            "hello 9\n"
          ],
          "name": "stdout"
        }
      ]
    },
    {
      "cell_type": "markdown",
      "metadata": {
        "id": "X-grUjV2x9Wo"
      },
      "source": [
        "### 16.2 for range 응용\n"
      ]
    },
    {
      "cell_type": "code",
      "metadata": {
        "colab": {
          "base_uri": "https://localhost:8080/"
        },
        "id": "eGdqyWDYsvEE",
        "outputId": "7f65ef18-99b4-45f8-e6b5-894bbae16a71"
      },
      "source": [
        "for i in range(0, 10, 2):\n",
        "  print(\"hello\", i)"
      ],
      "execution_count": 3,
      "outputs": [
        {
          "output_type": "stream",
          "text": [
            "hello 0\n",
            "hello 2\n",
            "hello 4\n",
            "hello 6\n",
            "hello 8\n"
          ],
          "name": "stdout"
        }
      ]
    },
    {
      "cell_type": "code",
      "metadata": {
        "colab": {
          "base_uri": "https://localhost:8080/"
        },
        "id": "83kya4tpzC5u",
        "outputId": "3ffb4ec7-261e-465c-c807-4d669473291c"
      },
      "source": [
        "for i in range(1, 101):\n",
        "    print('Fizz'*(i%3==0) + 'Buzz'*(i%5==0) or i, end=' ')\n",
        "    if (i % 10 == 0):\n",
        "        print()"
      ],
      "execution_count": 4,
      "outputs": [
        {
          "output_type": "stream",
          "text": [
            "1 2 Fizz 4 Buzz Fizz 7 8 Fizz Buzz \n",
            "11 Fizz 13 14 FizzBuzz 16 17 Fizz 19 Buzz \n",
            "Fizz 22 23 Fizz Buzz 26 Fizz 28 29 FizzBuzz \n",
            "31 32 Fizz 34 Buzz Fizz 37 38 Fizz Buzz \n",
            "41 Fizz 43 44 FizzBuzz 46 47 Fizz 49 Buzz \n",
            "Fizz 52 53 Fizz Buzz 56 Fizz 58 59 FizzBuzz \n",
            "61 62 Fizz 64 Buzz Fizz 67 68 Fizz Buzz \n",
            "71 Fizz 73 74 FizzBuzz 76 77 Fizz 79 Buzz \n",
            "Fizz 82 83 Fizz Buzz 86 Fizz 88 89 FizzBuzz \n",
            "91 92 Fizz 94 Buzz Fizz 97 98 Fizz Buzz \n"
          ],
          "name": "stdout"
        }
      ]
    },
    {
      "cell_type": "markdown",
      "metadata": {
        "id": "xoD2WjMhz5WK"
      },
      "source": [
        "### 16.3 시퀀스 객체"
      ]
    },
    {
      "cell_type": "code",
      "metadata": {
        "colab": {
          "base_uri": "https://localhost:8080/"
        },
        "id": "R-q7piQWz7kW",
        "outputId": "d36a71f3-6fee-432f-8e72-9675a0a7c06f"
      },
      "source": [
        "fruits = ['apple', 'banana', 'cherry']\n",
        "for fruit in fruits:\n",
        "  print(fruit)"
      ],
      "execution_count": 6,
      "outputs": [
        {
          "output_type": "stream",
          "text": [
            "apple\n",
            "banana\n",
            "cherry\n"
          ],
          "name": "stdout"
        }
      ]
    },
    {
      "cell_type": "code",
      "metadata": {
        "colab": {
          "base_uri": "https://localhost:8080/"
        },
        "id": "gG79ULiW2dRG",
        "outputId": "b5b111ca-8405-49f2-e6cf-26d0f549fc0b"
      },
      "source": [
        "for letter in 'python':\n",
        "  print(letter, end='')\n",
        "\n",
        "print()\n",
        "for word in reversed('python'):\n",
        "  print(word, end='')"
      ],
      "execution_count": 9,
      "outputs": [
        {
          "output_type": "stream",
          "text": [
            "python\n",
            "nohtyp"
          ],
          "name": "stdout"
        }
      ]
    },
    {
      "cell_type": "markdown",
      "metadata": {
        "id": "ZC_CWn3D3lE6"
      },
      "source": [
        "### Perfect Number\n",
        " - 자기 자신을 제외한 약수의 합이 자기자신\n",
        " - 6의 약수 : 1,2,3,6\n",
        " - 6 = 1+2+3\n",
        " - 10000이하에서는 4개"
      ]
    },
    {
      "cell_type": "code",
      "metadata": {
        "colab": {
          "base_uri": "https://localhost:8080/"
        },
        "id": "lGOM2L_K3bST",
        "outputId": "87b422f5-2e96-4bd9-9ab3-80d6b6a3eb52"
      },
      "source": [
        "for i in range(2, 10001):\n",
        "  sum = 0\n",
        "  for k in range(1, i):\n",
        "      if i % k == 0 and i != k:\n",
        "        sum += k\n",
        "  if i == sum:\n",
        "    print(f'{i}는 perfect number')"
      ],
      "execution_count": 14,
      "outputs": [
        {
          "output_type": "stream",
          "text": [
            "6는 perfect number\n",
            "28는 perfect number\n",
            "496는 perfect number\n",
            "8128는 perfect number\n"
          ],
          "name": "stdout"
        }
      ]
    }
  ]
}