{
  "nbformat": 4,
  "nbformat_minor": 0,
  "metadata": {
    "colab": {
      "name": "u18_반복문제어.ipynb",
      "provenance": [],
      "collapsed_sections": []
    },
    "kernelspec": {
      "name": "python3",
      "display_name": "Python 3"
    },
    "language_info": {
      "name": "python"
    }
  },
  "cells": [
    {
      "cell_type": "markdown",
      "metadata": {
        "id": "Ab5P06C7FEgY"
      },
      "source": [
        "## Unit 18. break continue"
      ]
    },
    {
      "cell_type": "code",
      "metadata": {
        "id": "CVUKdHrEEqda",
        "colab": {
          "base_uri": "https://localhost:8080/"
        },
        "outputId": "fda77ae1-4ecc-424f-8e3a-6e03463d7be2"
      },
      "source": [
        "import random\n",
        "while True:\n",
        "  i = random.randint(1,6)\n",
        "  print(i)\n",
        "  if i == 3:\n",
        "    break"
      ],
      "execution_count": 2,
      "outputs": [
        {
          "output_type": "stream",
          "text": [
            "3\n"
          ],
          "name": "stdout"
        }
      ]
    },
    {
      "cell_type": "code",
      "metadata": {
        "colab": {
          "base_uri": "https://localhost:8080/"
        },
        "id": "83now0pwF5ZA",
        "outputId": "90fffe93-3725-4331-8ecc-0f1da134e896"
      },
      "source": [
        "for i in range(5):\n",
        "  print(i, end=' ')\n",
        "  for k in range(5):\n",
        "    print('*', end='')\n",
        "    if i==k:\n",
        "      break\n",
        "  print()"
      ],
      "execution_count": 5,
      "outputs": [
        {
          "output_type": "stream",
          "text": [
            "0 *\n",
            "1 **\n",
            "2 ***\n",
            "3 ****\n",
            "4 *****\n"
          ],
          "name": "stdout"
        }
      ]
    },
    {
      "cell_type": "markdown",
      "metadata": {
        "id": "DkmWoD2LGpxz"
      },
      "source": [
        "## 18.2 continue"
      ]
    },
    {
      "cell_type": "code",
      "metadata": {
        "colab": {
          "base_uri": "https://localhost:8080/"
        },
        "id": "vKMg9NsKHF9U",
        "outputId": "b9f8fcdb-9aa4-4ac2-902b-b95fe996007a"
      },
      "source": [
        "for i in range(10):\n",
        "  if i %2 == 0:\n",
        "    continue\n",
        "  print(i)"
      ],
      "execution_count": 6,
      "outputs": [
        {
          "output_type": "stream",
          "text": [
            "1\n",
            "3\n",
            "5\n",
            "7\n",
            "9\n"
          ],
          "name": "stdout"
        }
      ]
    }
  ]
}