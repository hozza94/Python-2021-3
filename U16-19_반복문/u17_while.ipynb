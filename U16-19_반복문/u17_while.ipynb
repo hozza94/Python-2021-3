{
  "nbformat": 4,
  "nbformat_minor": 0,
  "metadata": {
    "colab": {
      "name": "u17_while.ipynb",
      "provenance": [],
      "collapsed_sections": []
    },
    "kernelspec": {
      "name": "python3",
      "display_name": "Python 3"
    },
    "language_info": {
      "name": "python"
    }
  },
  "cells": [
    {
      "cell_type": "markdown",
      "metadata": {
        "id": "epyCzC0FAv-2"
      },
      "source": [
        "## Unit 17. while\n"
      ]
    },
    {
      "cell_type": "markdown",
      "metadata": {
        "id": "AOF3w8ZjBFol"
      },
      "source": [
        "### 17.1 while 반복문"
      ]
    },
    {
      "cell_type": "code",
      "metadata": {
        "id": "L2GQOLUlAqqi"
      },
      "source": [
        "while True:\n",
        "  break"
      ],
      "execution_count": null,
      "outputs": []
    },
    {
      "cell_type": "markdown",
      "metadata": {
        "id": "TjCYVrbGDWre"
      },
      "source": [
        "### 17.2 반복횟수 없는 while"
      ]
    },
    {
      "cell_type": "code",
      "metadata": {
        "colab": {
          "base_uri": "https://localhost:8080/"
        },
        "id": "78szJflODZ51",
        "outputId": "d9072153-b1a9-452f-dfac-f85a3ec6c3de"
      },
      "source": [
        "import random\n",
        "random.randint(1,6)"
      ],
      "execution_count": null,
      "outputs": [
        {
          "output_type": "execute_result",
          "data": {
            "text/plain": [
              "4"
            ]
          },
          "metadata": {
            "tags": []
          },
          "execution_count": 1
        }
      ]
    },
    {
      "cell_type": "code",
      "metadata": {
        "colab": {
          "base_uri": "https://localhost:8080/"
        },
        "id": "kpivdDzvDeox",
        "outputId": "417f1ce7-ef28-492b-b786-563a623dd806"
      },
      "source": [
        "i = 0\n",
        "dice = [1,2,3,4,5,6]\n",
        "while i != 3:\n",
        "  i = random.choice(dice)\n",
        "  print(i)"
      ],
      "execution_count": null,
      "outputs": [
        {
          "output_type": "stream",
          "text": [
            "5\n",
            "5\n",
            "4\n",
            "4\n",
            "6\n",
            "2\n",
            "2\n",
            "5\n",
            "3\n"
          ],
          "name": "stdout"
        }
      ]
    },
    {
      "cell_type": "code",
      "metadata": {
        "colab": {
          "base_uri": "https://localhost:8080/"
        },
        "id": "g7E9cxbKDuRD",
        "outputId": "f6dec5c0-db3c-4acd-e264-d6a75d5f3139"
      },
      "source": [
        "random.sample(dice, 6)"
      ],
      "execution_count": null,
      "outputs": [
        {
          "output_type": "execute_result",
          "data": {
            "text/plain": [
              "[2, 6, 5, 4, 3, 1]"
            ]
          },
          "metadata": {
            "tags": []
          },
          "execution_count": 4
        }
      ]
    }
  ]
}