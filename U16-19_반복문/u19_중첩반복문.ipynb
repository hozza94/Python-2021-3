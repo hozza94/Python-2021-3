{
  "nbformat": 4,
  "nbformat_minor": 0,
  "metadata": {
    "colab": {
      "name": "u19_중첩반복문.ipynb",
      "provenance": [],
      "collapsed_sections": []
    },
    "kernelspec": {
      "name": "python3",
      "display_name": "Python 3"
    },
    "language_info": {
      "name": "python"
    }
  },
  "cells": [
    {
      "cell_type": "markdown",
      "metadata": {
        "id": "sKIfImGlbSpR"
      },
      "source": [
        "# Unit 19. 중첩 반복문"
      ]
    },
    {
      "cell_type": "markdown",
      "metadata": {
        "id": "3viN0KsPbr87"
      },
      "source": [
        "### 19.1 중첩(Nested) loop"
      ]
    },
    {
      "cell_type": "code",
      "metadata": {
        "colab": {
          "base_uri": "https://localhost:8080/"
        },
        "id": "5eLbgAVpIrvo",
        "outputId": "c0c543e0-3c8f-4e7e-f214-fdb73e8ea01e"
      },
      "source": [
        "for i in range(5):\n",
        "  for k in range(10, 60, 10):\n",
        "    print(k, end=' ')\n",
        "  print(i)"
      ],
      "execution_count": 3,
      "outputs": [
        {
          "output_type": "stream",
          "text": [
            "10 20 30 40 50 0\n",
            "10 20 30 40 50 1\n",
            "10 20 30 40 50 2\n",
            "10 20 30 40 50 3\n",
            "10 20 30 40 50 4\n"
          ],
          "name": "stdout"
        }
      ]
    },
    {
      "cell_type": "markdown",
      "metadata": {
        "id": "p_zxF3uBcu5g"
      },
      "source": [
        "### 19.2 별 사각형"
      ]
    },
    {
      "cell_type": "code",
      "metadata": {
        "colab": {
          "base_uri": "https://localhost:8080/"
        },
        "id": "6w7qgC_ocw38",
        "outputId": "a43fb83a-fd78-4666-d0e3-9f5eb77ec441"
      },
      "source": [
        "for i in range(5):\n",
        "  for _ in range(5):\n",
        "    print('*', end='')\n",
        "  print()\n",
        "\n",
        "print('-------------------')\n",
        "for i in range(5):\n",
        "  for _ in range(i):\n",
        "    print(' ', end='')\n",
        "  for _ in range(5):\n",
        "    print('*', end='')\n",
        "  print()"
      ],
      "execution_count": 8,
      "outputs": [
        {
          "output_type": "stream",
          "text": [
            "*****\n",
            "*****\n",
            "*****\n",
            "*****\n",
            "*****\n",
            "-------------------\n",
            "*****\n",
            " *****\n",
            "  *****\n",
            "   *****\n",
            "    *****\n"
          ],
          "name": "stdout"
        }
      ]
    },
    {
      "cell_type": "markdown",
      "metadata": {
        "id": "7H8fCV2_c-hU"
      },
      "source": [
        "### 19.3 계단식 별 모양\n"
      ]
    },
    {
      "cell_type": "code",
      "metadata": {
        "colab": {
          "base_uri": "https://localhost:8080/"
        },
        "id": "evJVvX5gfQp0",
        "outputId": "5d1d67ec-dc50-4371-e6b0-8263c9008a0b"
      },
      "source": [
        "for i in range(5):\n",
        "  for j in range(i+1):\n",
        "    print('*', end='')\n",
        "  print()\n",
        "\n",
        "# for i in range(5):\n",
        "#   print('*' * (i+1))\n",
        "\n",
        "print('------------------')\n",
        "\n",
        "for i in range(5):\n",
        "  for _ in range(i):\n",
        "    print(' ', end='')\n",
        "  for _ in range(5-i):\n",
        "    print('*', end='')\n",
        "  print()\n",
        "\n",
        "\n",
        "# for i in range(5):\n",
        "#   print(' ' * i, '*' * (5-i), sep='')"
      ],
      "execution_count": 15,
      "outputs": [
        {
          "output_type": "stream",
          "text": [
            "*\n",
            "**\n",
            "***\n",
            "****\n",
            "*****\n",
            "------------------\n",
            "*****\n",
            " ****\n",
            "  ***\n",
            "   **\n",
            "    *\n",
            "*****\n",
            " ****\n",
            "  ***\n",
            "   **\n",
            "    *\n"
          ],
          "name": "stdout"
        }
      ]
    },
    {
      "cell_type": "code",
      "metadata": {
        "colab": {
          "base_uri": "https://localhost:8080/"
        },
        "id": "kyHNDQRnhnbh",
        "outputId": "aa0f4274-7287-4d5a-d82f-dbeae6db8918"
      },
      "source": [
        "### 다이아몬드모양. 1,3,5,7,9 형태로\n",
        "\n",
        "for i in range(5):\n",
        "  print(' ' * (4-i), '*' * (2*i+1), sep='')\n",
        "for i in range(4):\n",
        "  print(' ' * (i+1), '*' * (7-2*i), sep='')"
      ],
      "execution_count": 43,
      "outputs": [
        {
          "output_type": "stream",
          "text": [
            "    *\n",
            "   ***\n",
            "  *****\n",
            " *******\n",
            "*********\n",
            " *******\n",
            "  *****\n",
            "   ***\n",
            "    *\n"
          ],
          "name": "stdout"
        }
      ]
    }
  ]
}