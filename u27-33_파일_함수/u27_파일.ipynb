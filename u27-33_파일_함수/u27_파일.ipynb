{
  "nbformat": 4,
  "nbformat_minor": 0,
  "metadata": {
    "colab": {
      "name": "u27_파일.ipynb",
      "provenance": [],
      "collapsed_sections": []
    },
    "kernelspec": {
      "name": "python3",
      "display_name": "Python 3"
    },
    "language_info": {
      "name": "python"
    }
  },
  "cells": [
    {
      "cell_type": "markdown",
      "metadata": {
        "id": "J8CIrbYik3J2"
      },
      "source": [
        "##Unit 27. 파일"
      ]
    },
    {
      "cell_type": "markdown",
      "metadata": {
        "id": "2ef6340HmzaG"
      },
      "source": [
        "### 27.1 문자열 쓰기, 읽기"
      ]
    },
    {
      "cell_type": "code",
      "metadata": {
        "id": "LBYafBeykw_f"
      },
      "source": [
        "file = open('hello.txt', 'w')\n",
        "file.write('Hello.world')\n",
        "file.close()"
      ],
      "execution_count": 1,
      "outputs": []
    },
    {
      "cell_type": "code",
      "metadata": {
        "colab": {
          "base_uri": "https://localhost:8080/"
        },
        "id": "BtV9O1UGnOm6",
        "outputId": "3839c38d-3ae0-4032-bff3-d8a5c7f45eee"
      },
      "source": [
        "!cat hello.txt"
      ],
      "execution_count": 2,
      "outputs": [
        {
          "output_type": "stream",
          "text": [
            "Hello.world"
          ],
          "name": "stdout"
        }
      ]
    },
    {
      "cell_type": "code",
      "metadata": {
        "colab": {
          "base_uri": "https://localhost:8080/"
        },
        "id": "fk5dZQ2HnQhm",
        "outputId": "2f708ee8-57b4-4e57-c731-7b74ed7f4299"
      },
      "source": [
        "file = open('hello.txt') # 'r' mode가 default\n",
        "s = file.read()\n",
        "print(s)\n",
        "file.close()"
      ],
      "execution_count": 3,
      "outputs": [
        {
          "output_type": "stream",
          "text": [
            "Hello.world\n"
          ],
          "name": "stdout"
        }
      ]
    },
    {
      "cell_type": "markdown",
      "metadata": {
        "id": "rutd5LkIqKxW"
      },
      "source": [
        "### 파이썬 스타일"
      ]
    },
    {
      "cell_type": "code",
      "metadata": {
        "colab": {
          "base_uri": "https://localhost:8080/"
        },
        "id": "ioUGhgS6pfi9",
        "outputId": "557c3f40-3237-470c-a41a-2e50711fc484"
      },
      "source": [
        "with open('hello.txt') as file:\n",
        "  s = file.read()\n",
        "print(s)"
      ],
      "execution_count": 4,
      "outputs": [
        {
          "output_type": "stream",
          "text": [
            "Hello.world\n"
          ],
          "name": "stdout"
        }
      ]
    },
    {
      "cell_type": "markdown",
      "metadata": {
        "id": "2lzz1A6YqIQm"
      },
      "source": [
        "### 27.2 문자열 여러줄"
      ]
    },
    {
      "cell_type": "code",
      "metadata": {
        "id": "hfXwVxY7qHl7"
      },
      "source": [
        "with open('hello.txt', 'w') as file:\n",
        "  for i in range(3):\n",
        "    file.write(f'hello, wolrd! {i+1}\\n')"
      ],
      "execution_count": 5,
      "outputs": []
    },
    {
      "cell_type": "code",
      "metadata": {
        "colab": {
          "base_uri": "https://localhost:8080/"
        },
        "id": "IakCQXcmq0nY",
        "outputId": "40d5c7df-b44c-4605-baeb-f477ed761bbc"
      },
      "source": [
        "!cat hello.txt"
      ],
      "execution_count": 6,
      "outputs": [
        {
          "output_type": "stream",
          "text": [
            "hello, wolrd! 1\n",
            "hello, wolrd! 2\n",
            "hello, wolrd! 3\n"
          ],
          "name": "stdout"
        }
      ]
    },
    {
      "cell_type": "code",
      "metadata": {
        "id": "BxhhfMIirBzg"
      },
      "source": [
        "lines = ['안녕하세요.\\n','파이썬\\n', '코딩도장입니다.\\n']\n",
        "with open('hello.txt', 'w', encoding='utf-8') as file:\n",
        "  file.writelines(lines)"
      ],
      "execution_count": null,
      "outputs": []
    },
    {
      "cell_type": "code",
      "metadata": {
        "colab": {
          "base_uri": "https://localhost:8080/"
        },
        "id": "FeZDK_McrrAJ",
        "outputId": "698c3294-457d-47e3-bf4e-d562ae5db6cc"
      },
      "source": [
        "!cat hello.txt"
      ],
      "execution_count": 8,
      "outputs": [
        {
          "output_type": "stream",
          "text": [
            "hello, wolrd! 1\n",
            "hello, wolrd! 2\n",
            "hello, wolrd! 3\n"
          ],
          "name": "stdout"
        }
      ]
    },
    {
      "cell_type": "code",
      "metadata": {
        "id": "7Aj43J3Esroq"
      },
      "source": [
        "s = '''안녕하세요.\n",
        "파이썬\n",
        "코딩도장입니다.'''\n",
        "with open('hello.txt', 'w') as file:\n",
        "  file.write(s)        "
      ],
      "execution_count": 12,
      "outputs": []
    },
    {
      "cell_type": "code",
      "metadata": {
        "colab": {
          "base_uri": "https://localhost:8080/"
        },
        "id": "_QB9JSsws2bn",
        "outputId": "b5bacf6c-08cc-4130-a604-155f2aa3351d"
      },
      "source": [
        "!cat hello.txt"
      ],
      "execution_count": 13,
      "outputs": [
        {
          "output_type": "stream",
          "text": [
            "안녕하세요.\n",
            "파이썬\n",
            "코딩도장입니다."
          ],
          "name": "stdout"
        }
      ]
    },
    {
      "cell_type": "code",
      "metadata": {
        "colab": {
          "base_uri": "https://localhost:8080/"
        },
        "id": "pfKtxeTstLJd",
        "outputId": "8affeba2-04d2-4248-8920-74694befb052"
      },
      "source": [
        "with open('hello.txt') as file:\n",
        "  s = file.readline()\n",
        "print(s)"
      ],
      "execution_count": 14,
      "outputs": [
        {
          "output_type": "stream",
          "text": [
            "안녕하세요.\n",
            "\n"
          ],
          "name": "stdout"
        }
      ]
    },
    {
      "cell_type": "code",
      "metadata": {
        "colab": {
          "base_uri": "https://localhost:8080/"
        },
        "id": "b_3CxUZUtpV3",
        "outputId": "e939242a-e633-4b66-bc10-3a39e2b94a0b"
      },
      "source": [
        "with open('hello.txt') as file:\n",
        "  line = None\n",
        "  while line != '':\n",
        "    line = file.readline()\n",
        "    print(line.strip('\\n'))"
      ],
      "execution_count": 16,
      "outputs": [
        {
          "output_type": "stream",
          "text": [
            "안녕하세요.\n",
            "파이썬\n",
            "코딩도장입니다.\n",
            "\n"
          ],
          "name": "stdout"
        }
      ]
    },
    {
      "cell_type": "code",
      "metadata": {
        "colab": {
          "base_uri": "https://localhost:8080/"
        },
        "id": "n4fZBCYxxOVk",
        "outputId": "0f430225-62e5-4175-d22f-b764aaa6beb7"
      },
      "source": [
        "with open('hello.txt') as file:\n",
        "  for line in file:\n",
        "    print(line.strip('\\n'))"
      ],
      "execution_count": 20,
      "outputs": [
        {
          "output_type": "stream",
          "text": [
            "안녕하세요.\n",
            "파이썬\n",
            "코딩도장입니다.\n"
          ],
          "name": "stdout"
        }
      ]
    },
    {
      "cell_type": "code",
      "metadata": {
        "id": "7BTvHXs6zVxD"
      },
      "source": [
        "with open('hello.txt', 'a') as file:\n",
        "  file.write('Append\\n')"
      ],
      "execution_count": 22,
      "outputs": []
    },
    {
      "cell_type": "code",
      "metadata": {
        "colab": {
          "base_uri": "https://localhost:8080/"
        },
        "id": "cp8KVD05zdeS",
        "outputId": "6e3dd1f1-ed9d-4359-8247-552f8b7973a6"
      },
      "source": [
        "!cat hello.txt"
      ],
      "execution_count": 23,
      "outputs": [
        {
          "output_type": "stream",
          "text": [
            "안녕하세요.\n",
            "파이썬\n",
            "코딩도장입니다.Append\n"
          ],
          "name": "stdout"
        }
      ]
    },
    {
      "cell_type": "markdown",
      "metadata": {
        "id": "a_aVXTR-zgZK"
      },
      "source": [
        "### binary mode"
      ]
    },
    {
      "cell_type": "code",
      "metadata": {
        "colab": {
          "base_uri": "https://localhost:8080/"
        },
        "id": "GOdxwyz4zffq",
        "outputId": "3ad6c963-aac8-42fa-9591-cdd0dec1132e"
      },
      "source": [
        "with open('image.jpg', 'rb') as bin:\n",
        "  x = bin.read(10)\n",
        "\n",
        "print(x)"
      ],
      "execution_count": 28,
      "outputs": [
        {
          "output_type": "stream",
          "text": [
            "b'\\xff\\xd8\\xff\\xe0\\x00\\x10JFIF'\n"
          ],
          "name": "stdout"
        }
      ]
    },
    {
      "cell_type": "markdown",
      "metadata": {
        "id": "wH7XIL_k09Az"
      },
      "source": [
        "### 27.3 파이썬 객체 읽고 쓰기"
      ]
    },
    {
      "cell_type": "code",
      "metadata": {
        "id": "ywedntD30I4w"
      },
      "source": [
        "import pickle\n",
        "\n",
        "scores = {'kor' : 90, 'eng' : 90, 'mat' : 80}\n",
        "with open('binary.pkl', 'wb') as file:\n",
        "  pickle.dump(scores, file)"
      ],
      "execution_count": 31,
      "outputs": []
    },
    {
      "cell_type": "code",
      "metadata": {
        "colab": {
          "base_uri": "https://localhost:8080/"
        },
        "id": "sHQtZdQC1o0b",
        "outputId": "9bc6d095-3e98-4502-e64f-fcd62b6bad82"
      },
      "source": [
        "!cat binary.pkl"
      ],
      "execution_count": 33,
      "outputs": [
        {
          "output_type": "stream",
          "text": [
            "�\u0003}q\u0000(X\u0003\u0000\u0000\u0000korq\u0001KZX\u0003\u0000\u0000\u0000engq\u0002KZX\u0003\u0000\u0000\u0000matq\u0003KPu."
          ],
          "name": "stdout"
        }
      ]
    },
    {
      "cell_type": "code",
      "metadata": {
        "colab": {
          "base_uri": "https://localhost:8080/"
        },
        "id": "IR48Wnnp1-wG",
        "outputId": "c4666357-252e-4927-b25a-a49ce4ff20d8"
      },
      "source": [
        "with open('binary.pkl', 'rb') as file:\n",
        "  new_scores = pickle.load(file)\n",
        "\n",
        "  print(new_scores)"
      ],
      "execution_count": 34,
      "outputs": [
        {
          "output_type": "stream",
          "text": [
            "{'kor': 90, 'eng': 90, 'mat': 80}\n"
          ],
          "name": "stdout"
        }
      ]
    }
  ]
}