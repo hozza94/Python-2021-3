{
  "nbformat": 4,
  "nbformat_minor": 0,
  "metadata": {
    "colab": {
      "name": "u30_ 위치인수와 키워드인수.ipynb",
      "provenance": [],
      "collapsed_sections": []
    },
    "kernelspec": {
      "name": "python3",
      "display_name": "Python 3"
    },
    "language_info": {
      "name": "python"
    }
  },
  "cells": [
    {
      "cell_type": "markdown",
      "metadata": {
        "id": "pQ83gfNof-WP"
      },
      "source": [
        "## Unit 30. 위치 인수와 키워드 인수"
      ]
    },
    {
      "cell_type": "markdown",
      "metadata": {
        "id": "gQqAc9MIgDQF"
      },
      "source": [
        "### 30.1 위치 인수\n",
        "\n"
      ]
    },
    {
      "cell_type": "code",
      "metadata": {
        "colab": {
          "base_uri": "https://localhost:8080/"
        },
        "id": "lpLbhbCgflP1",
        "outputId": "359ac3fd-7f0c-4774-9efe-4e6860de6ff8"
      },
      "source": [
        "print(10, 20, 30, sep=', ')"
      ],
      "execution_count": 1,
      "outputs": [
        {
          "output_type": "stream",
          "text": [
            "10, 20, 30\n"
          ],
          "name": "stdout"
        }
      ]
    },
    {
      "cell_type": "code",
      "metadata": {
        "colab": {
          "base_uri": "https://localhost:8080/"
        },
        "id": "4AM_17_AgbPV",
        "outputId": "537b652c-fcff-46cd-ee54-2ea7be01b329"
      },
      "source": [
        "print(tuple(range(10, 101, 10)))"
      ],
      "execution_count": 2,
      "outputs": [
        {
          "output_type": "stream",
          "text": [
            "(10, 20, 30, 40, 50, 60, 70, 80, 90, 100)\n"
          ],
          "name": "stdout"
        }
      ]
    },
    {
      "cell_type": "code",
      "metadata": {
        "id": "OIaY7w0dhoxk"
      },
      "source": [
        "def print_numbers(a,b,c):\n",
        "  print(a)\n",
        "  print(b)\n",
        "  print(c)"
      ],
      "execution_count": 3,
      "outputs": []
    },
    {
      "cell_type": "code",
      "metadata": {
        "colab": {
          "base_uri": "https://localhost:8080/"
        },
        "id": "trmD_2Luhla-",
        "outputId": "8170e4c6-14e8-4b98-804b-fd85d35d0e4d"
      },
      "source": [
        "x, y = [10, 20, 30], (40,50,60)\n",
        "print_numbers(*x)\n",
        "print_numbers(*y)"
      ],
      "execution_count": 4,
      "outputs": [
        {
          "output_type": "stream",
          "text": [
            "10\n",
            "20\n",
            "30\n",
            "40\n",
            "50\n",
            "60\n"
          ],
          "name": "stdout"
        }
      ]
    },
    {
      "cell_type": "code",
      "metadata": {
        "id": "Mzr5aHyzh5vf"
      },
      "source": [
        "#  가변인수\n",
        "def print_numbers(*args):\n",
        "  for arg in args:\n",
        "    print(arg)"
      ],
      "execution_count": 7,
      "outputs": []
    },
    {
      "cell_type": "code",
      "metadata": {
        "id": "l1aF2tKinUOc"
      },
      "source": [
        "def personal_info(name, age, addr):\n",
        "  print('이름 : ', name)\n",
        "  print('나이 : ', age)\n",
        "  print('주소 : ', addr)"
      ],
      "execution_count": 8,
      "outputs": []
    },
    {
      "cell_type": "code",
      "metadata": {
        "colab": {
          "base_uri": "https://localhost:8080/"
        },
        "id": "O6W5DNVWn99Q",
        "outputId": "bf008b09-f8d5-4250-f79b-47b4d595fe2b"
      },
      "source": [
        "x = {'name' : '홍길동', 'age' : 30, 'addr' : '서울 강남구 도곡동'}\n",
        "personal_info(**x)\n",
        "personal_info(*x)"
      ],
      "execution_count": 10,
      "outputs": [
        {
          "output_type": "stream",
          "text": [
            "이름 :  홍길동\n",
            "나이 :  30\n",
            "주소 :  서울 강남구 도곡동\n",
            "이름 :  name\n",
            "나이 :  age\n",
            "주소 :  addr\n"
          ],
          "name": "stdout"
        }
      ]
    },
    {
      "cell_type": "markdown",
      "metadata": {
        "id": "no77fwCqonxx"
      },
      "source": [
        "### 가변 키워드 인수"
      ]
    },
    {
      "cell_type": "code",
      "metadata": {
        "id": "0FTkYfHxpRaz"
      },
      "source": [
        "def personal_info2(**kwargs):\n",
        "  for key, value in kwargs.items():\n",
        "    print(f'{key}: {value}')"
      ],
      "execution_count": 13,
      "outputs": []
    },
    {
      "cell_type": "code",
      "metadata": {
        "colab": {
          "base_uri": "https://localhost:8080/"
        },
        "id": "0L_jL6kWpWRY",
        "outputId": "9c78fa52-4bb2-45a3-aa28-5f90f69dc4ef"
      },
      "source": [
        "personal_info2(**x)"
      ],
      "execution_count": 14,
      "outputs": [
        {
          "output_type": "stream",
          "text": [
            "name: 홍길동\n",
            "age: 30\n",
            "addr: 서울 강남구 도곡동\n"
          ],
          "name": "stdout"
        }
      ]
    },
    {
      "cell_type": "code",
      "metadata": {
        "id": "xrah92cAqQwq"
      },
      "source": [
        "def personal_info3(name, **kwargs):\n",
        "  print(name)\n",
        "  print(kwargs)"
      ],
      "execution_count": 15,
      "outputs": []
    },
    {
      "cell_type": "code",
      "metadata": {
        "colab": {
          "base_uri": "https://localhost:8080/"
        },
        "id": "VdnaSLq4qWet",
        "outputId": "0d385d82-262e-4e94-f071-c8a55ac54492"
      },
      "source": [
        "personal_info3(**x)"
      ],
      "execution_count": 16,
      "outputs": [
        {
          "output_type": "stream",
          "text": [
            "홍길동\n",
            "{'age': 30, 'addr': '서울 강남구 도곡동'}\n"
          ],
          "name": "stdout"
        }
      ]
    }
  ]
}