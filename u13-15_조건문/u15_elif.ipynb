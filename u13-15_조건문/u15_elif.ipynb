{
  "nbformat": 4,
  "nbformat_minor": 0,
  "metadata": {
    "colab": {
      "name": "u15_elif.ipynb",
      "provenance": [],
      "collapsed_sections": []
    },
    "kernelspec": {
      "name": "python3",
      "display_name": "Python 3"
    },
    "language_info": {
      "name": "python"
    }
  },
  "cells": [
    {
      "cell_type": "markdown",
      "metadata": {
        "id": "bC89dE91n5S7"
      },
      "source": [
        "## 15 elif\n"
      ]
    },
    {
      "cell_type": "code",
      "metadata": {
        "colab": {
          "base_uri": "https://localhost:8080/"
        },
        "id": "r5xdtwH4g_O0",
        "outputId": "68b91937-c6d3-4d02-b7e0-254b42f33bf6"
      },
      "source": [
        "x = 20\n",
        "if x == 10:\n",
        "  print('it is 10')\n",
        "elif x == 20:\n",
        "  print('it is 20')\n",
        "else:\n",
        "  print('10,20 둘다아님')"
      ],
      "execution_count": 1,
      "outputs": [
        {
          "output_type": "stream",
          "text": [
            "it is 20\n"
          ],
          "name": "stdout"
        }
      ]
    },
    {
      "cell_type": "code",
      "metadata": {
        "colab": {
          "base_uri": "https://localhost:8080/"
        },
        "id": "5Ek-ALmupBYT",
        "outputId": "c7d84b46-99fc-4a19-d126-34e576cedbde"
      },
      "source": [
        "# 숫자 입력, 3배 fizz, 5배 buzz, 15배 fizzbuzz\n",
        "\n",
        "x = int(input())\n",
        "\n",
        "if x % 15 == 0:\n",
        "  print('fizzbuzz')\n",
        "elif x % 5 == 0:\n",
        "  print('buzz')\n",
        "elif x % 3 ==0:\n",
        "  print('fizz')\n",
        "else:\n",
        "  print(x)"
      ],
      "execution_count": 9,
      "outputs": [
        {
          "output_type": "stream",
          "text": [
            "40\n",
            "buzz\n"
          ],
          "name": "stdout"
        }
      ]
    },
    {
      "cell_type": "code",
      "metadata": {
        "id": "zLoULvIorf7k"
      },
      "source": [
        "print('fizz'*(x%3==0))"
      ],
      "execution_count": null,
      "outputs": []
    }
  ]
}