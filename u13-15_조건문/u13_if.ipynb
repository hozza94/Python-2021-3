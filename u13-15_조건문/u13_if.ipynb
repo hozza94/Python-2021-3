{
  "nbformat": 4,
  "nbformat_minor": 0,
  "metadata": {
    "colab": {
      "name": "u13_if.ipynb",
      "provenance": [],
      "collapsed_sections": []
    },
    "kernelspec": {
      "name": "python3",
      "display_name": "Python 3"
    },
    "language_info": {
      "name": "python"
    }
  },
  "cells": [
    {
      "cell_type": "markdown",
      "metadata": {
        "id": "JB8xXa_biz9E"
      },
      "source": [
        "## Unit 13. if"
      ]
    },
    {
      "cell_type": "markdown",
      "metadata": {
        "id": "dnvzyuCFi3UT"
      },
      "source": [
        "### 13.1 if 조건문"
      ]
    },
    {
      "cell_type": "code",
      "metadata": {
        "colab": {
          "base_uri": "https://localhost:8080/"
        },
        "id": "U9GzgAFOiyHg",
        "outputId": "d16107ce-debb-4ee2-f555-011e018e849d"
      },
      "source": [
        "x = 9\n",
        "if x:\n",
        "  print('it is 10.')"
      ],
      "execution_count": 1,
      "outputs": [
        {
          "output_type": "stream",
          "text": [
            "it is 10.\n"
          ],
          "name": "stdout"
        }
      ]
    },
    {
      "cell_type": "markdown",
      "metadata": {
        "id": "xjGjdb_fi9nu"
      },
      "source": [
        "## 13.2 들여쓰기"
      ]
    },
    {
      "cell_type": "code",
      "metadata": {
        "colab": {
          "base_uri": "https://localhost:8080/"
        },
        "id": "L_2v5LYujBY2",
        "outputId": "2958a5d8-c762-47f2-8983-a27d611837da"
      },
      "source": [
        "x = 10\n",
        "\n",
        "if x == 10:\n",
        "  print('x 값은', x, '입니다.')\n",
        "    # print('x 값은', x, '입니다.') 들여쓰기로 인해 컴파일 안됨"
      ],
      "execution_count": 4,
      "outputs": [
        {
          "output_type": "stream",
          "text": [
            "x 값은 10 입니다.\n"
          ],
          "name": "stdout"
        }
      ]
    },
    {
      "cell_type": "markdown",
      "metadata": {
        "id": "usKN9T26kTMH"
      },
      "source": [
        "### 13.3 중첩 if 조건문"
      ]
    },
    {
      "cell_type": "code",
      "metadata": {
        "colab": {
          "base_uri": "https://localhost:8080/"
        },
        "id": "0NwEIBLmkWs7",
        "outputId": "18ecb74c-b81c-4197-e407-655d54ec9ed5"
      },
      "source": [
        "x = 15\n",
        "if x > 10:\n",
        "  print('10보다 큰 숫자 입니다.')\n",
        "  if x == 15:\n",
        "    print('15입니다.')\n",
        "  \n",
        "  if x > 15:\n",
        "    print('15보다도 큰데용')\n"
      ],
      "execution_count": 5,
      "outputs": [
        {
          "output_type": "stream",
          "text": [
            "10보다 큰 숫자 입니다.\n",
            "15입니다.\n"
          ],
          "name": "stdout"
        }
      ]
    }
  ]
}